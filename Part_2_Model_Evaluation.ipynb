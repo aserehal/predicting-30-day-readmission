{
 "cells": [
  {
   "cell_type": "markdown",
   "metadata": {},
   "source": [
    "# Module 5 Final Project\n",
    "\n",
    "Student name: **Cynthia Pedrasa**  \n",
    "Student pace: **self paced**  \n",
    "Scheduled project review date/time:  **Mon, Jun 15, 2020 10:00am - 11:00am (EDT)**  \n",
    "Instructor name: **Jeff Herman**  \n",
    "Blog post URL:  https://cpedrasa.github.io/exploratory_data_analysis\n",
    "\n",
    "## Table of contents\n",
    "\n",
    "Data Science Framework  \n",
    "\n",
    "**Part I** Obtain Data, Scrub Data, Data Exploration\n",
    "\n",
    "**Part II**\n",
    "\n",
    "Evaluate Algorithms - Train Test Split ; Test Options ; Eval metrics\n",
    "Improve with algorithm tuning- ml alg parameters grid search, random search   \n",
    "Improve performance with ensemble, bagging, boosting\n",
    "  \n",
    "IV.   Evaluate Algorithms\n",
    "  + A. <a href=\"#4a.-Train-Test-Split\">Train Test Split</a> \n",
    "  + B. <a href=\"#4b.-Cross-Validation\">Cross Validation</a>  \n",
    "  + C. <a href=\"#4c.-Evaluation-Metric\">Evaluation Metric</a>   \n",
    "\n",
    "V.    Machine Learning Algorithms/Tuning/Improve Accuracy  \n",
    "  +    <a href=\"#Logistic-Regression\">Logistic Regression</a>\n",
    "  +    <a href=\"#KNeighborsClassifier\">KNeighborsClassifier</a>   \n",
    "  +    <a href=\"#DecisionTreeClassifier\">DecisionTreeClassifier</a>    \n",
    "  \n",
    "VI.   Ensembles\n",
    "  +    <a href=\"#RandomForestClassifier\">RandomForestClassifier</a>    \n",
    "  +    <a href=\"#BaggingClassifier\">BaggingClassifier</a>  \n",
    "  +    <a href=\"#BalancedBaggingClassifier\">BalancedBaggingClassifier</a> \n",
    "  +    <a href=\"#ADABoostClassifier\">ADABoostClassifier</a>   \n",
    "  +    <a href=\"#GradientBoostingClassifier\">Gradient Boosting Classifier</a>\n",
    "  +    <a href=\"#XGBoostClassifier\">XGBoostClassifier</a>   \n",
    "  +    <a href=\"#SVM-Classifier\">SVM Classifier</a>\n",
    "  +    <a href=\"#Finalize-Save-Model-for-Later-Use\">Finalize Save Model for Later Use</a>  \n",
    "  +    <a href=\"#Predictions\">Predictions</a>    \n",
    "\n",
    "\n",
    "VII.   <a href=\"#iNterpreting-the-Data\">iNterpreting the Data</a>  \n",
    "\n",
    "VIII.  <a href=\"#Future-Work\">Future Work</a>  \n"
   ]
  },
  {
   "cell_type": "code",
   "execution_count": 1,
   "metadata": {},
   "outputs": [
    {
     "name": "stderr",
     "output_type": "stream",
     "text": [
      "Using TensorFlow backend.\n"
     ]
    }
   ],
   "source": [
    "#Import Libraries\n",
    "import pandas as pd\n",
    "from pandas import set_option\n",
    "import pickle\n",
    "import time\n",
    "import numpy as np\n",
    "from numpy import mean\n",
    "from numpy import std\n",
    "from pandas.plotting import scatter_matrix\n",
    "import matplotlib.pyplot as plt # plotting library for Python\n",
    "%matplotlib inline\n",
    "import seaborn as sns\n",
    "sns.set_style(\"darkgrid\")\n",
    "\n",
    "import pyodbc\n",
    "from pandasql import sqldf\n",
    "pysqldf = lambda q: sqldf(q, globals())\n",
    "\n",
    "import warnings\n",
    "warnings.filterwarnings('ignore')\n",
    "import scipy as sp\n",
    "\n",
    "from pandas import set_option\n",
    "from pandas.plotting import scatter_matrix\n",
    "from sklearn.preprocessing import StandardScaler\n",
    "from sklearn.model_selection import train_test_split, KFold, cross_val_score,  GridSearchCV\n",
    "from sklearn.model_selection import RepeatedStratifiedKFold, cross_val_predict \n",
    "from sklearn.utils.class_weight import compute_class_weight\n",
    "from sklearn.datasets import make_classification\n",
    "from collections import Counter\n",
    "\n",
    "from imblearn.over_sampling import SMOTE\n",
    "from imblearn.pipeline import Pipeline\n",
    "from imblearn.over_sampling import RandomOverSampler\n",
    "from imblearn.under_sampling import RandomUnderSampler\n",
    "from imblearn.ensemble import BalancedBaggingClassifier \n",
    "from imblearn.ensemble import BalancedRandomForestClassifier\n",
    "\n",
    "from sklearn.metrics import classification_report, confusion_matrix, precision_recall_curve\n",
    "from sklearn.metrics import accuracy_score, precision_score, recall_score, roc_auc_score, f1_score, roc_curve, auc\n",
    "from sklearn.metrics import mean_absolute_error, mean_squared_error, r2_score\n",
    "from sklearn.pipeline import Pipeline\n",
    "from sklearn.linear_model import LogisticRegression\n",
    "from sklearn.tree import DecisionTreeClassifier\n",
    "from sklearn.dummy import DummyClassifier\n",
    "\n",
    "from sklearn.neighbors import KNeighborsClassifier\n",
    "from sklearn.discriminant_analysis import LinearDiscriminantAnalysis\n",
    "from sklearn.naive_bayes import GaussianNB\n",
    "from sklearn.svm import SVC\n",
    "from sklearn.ensemble import AdaBoostClassifier\n",
    "from sklearn.ensemble import GradientBoostingClassifier\n",
    "from sklearn.ensemble import RandomForestClassifier\n",
    "from sklearn.ensemble import ExtraTreesClassifier\n",
    "from sklearn.ensemble import BaggingClassifier\n",
    "from xgboost import XGBClassifier\n"
   ]
  },
  {
   "cell_type": "code",
   "execution_count": 3,
   "metadata": {
    "scrolled": false
   },
   "outputs": [
    {
     "name": "stdout",
     "output_type": "stream",
     "text": [
      "Stratified Train: 0=44302, 1=4126, Test: 0=11075, 1=1032\n"
     ]
    }
   ],
   "source": [
    "###################################################################\n",
    "# Let's import the pre-processed data from Part I of this project\n",
    "###################################################################\n",
    "\n",
    "#Load the data from the pickle file \n",
    "# with open('readmissions.pickle', \"rb\") as f:\n",
    "#     df = pickle.load(f)\n",
    "\n",
    "# or load the data set from the saved csv file\n",
    "import pandas as pd\n",
    "df = pd.read_csv('final_data.csv')\n",
    "y = df.readmitted\n",
    "X = df.drop(['readmitted'], axis = 1)\n",
    "\n",
    "\"\"\"\n",
    "Let us split train and test in a stratified fashion to ensure they have \n",
    "approx. the same % of samples of each target class as the complete set.\n",
    "\"\"\"\n",
    "\n",
    "# split into train/test sets with same class ratio \n",
    "X_train, X_test, y_train, y_test = train_test_split(X, y, test_size=0.2, random_state=2, stratify=y)\n",
    "train_0, train_1 = len(y_train[y_train==0]), len(y_train[y_train==1])\n",
    "test_0, test_1 = len(y_test[y_test==0]), len(y_test[y_test==1])\n",
    "print('Stratified Train: 0=%d, 1=%d, Test: 0=%d, 1=%d' % (train_0, train_1, test_0, test_1))\n",
    "\n"
   ]
  },
  {
   "cell_type": "code",
   "execution_count": 4,
   "metadata": {},
   "outputs": [
    {
     "name": "stdout",
     "output_type": "stream",
     "text": [
      "Execution time 00:00:00\n"
     ]
    }
   ],
   "source": [
    "#Create functions to load data, split, train & test data and time execution\n",
    "\n",
    "def load_data(file_name):   \n",
    "    import pandas as pd\n",
    "    df = pd.read_csv(file_name)\n",
    "    y = df.readmitted\n",
    "    X = df.drop(['readmitted'], axis = 1)\n",
    "    return X, y\n",
    "\n",
    "def train_test_dist(X, y):\n",
    "    train_0, train_1 = len(y_train[y_train==0]), len(y_train[y_train==1])\n",
    "    test_0, test_1 = len(y_test[y_test==0]), len(y_test[y_test==1])\n",
    "    print('Train: 0=%d, 1=%d, Test: 0=%d, 1=%d' % (train_0, train_1, test_0, test_1))\n",
    "    \n",
    "def split_train_test(X, y):\n",
    "    X_train,X_test, y_train, y_test = train_test_split(X, y, test_size=0.2, random_state=2, stratify = y )\n",
    "    return X_train, X_test, y_train, y_test \n",
    "\n",
    "start = time.time()\n",
    "def exec_time():\n",
    "    execution_time = time.time() - start\n",
    "    print('Execution time', time.strftime(\"%H:%M:%S\", time.gmtime(execution_time)))\n",
    "\n",
    "exec_time()"
   ]
  },
  {
   "cell_type": "markdown",
   "metadata": {},
   "source": [
    "[<a href=\"#Module-5-Final-Project\">Jump back to Table of Contents</a>]  "
   ]
  },
  {
   "cell_type": "markdown",
   "metadata": {},
   "source": [
    "## 3e.  Feature Selection"
   ]
  },
  {
   "cell_type": "code",
   "execution_count": 5,
   "metadata": {
    "scrolled": false
   },
   "outputs": [],
   "source": [
    "# def plot_feature_importances(model):\n",
    "#     feature_names = X.columns\n",
    "#     feature_imports = model.feature_importances_\n",
    "#     most_imp_features = pd.DataFrame([f for f in zip(feature_names,feature_imports)], columns=[\"Feature\", \"Importance\"]).nlargest(20, \"Importance\")\n",
    "#     most_imp_features.sort_values(by=\"Importance\", inplace=True)\n",
    "#     plt.figure(figsize=(10,10))\n",
    "#     plt.barh(range(len(most_imp_features)), most_imp_features.Importance, align='center', alpha=0.8)\n",
    "#     plt.yticks(range(len(most_imp_features)), most_imp_features.Feature, fontsize=14)\n",
    "#     plt.xlabel('Importance')\n",
    "#     plt.title('Most important features ')\n",
    "#     plt.show()"
   ]
  },
  {
   "cell_type": "code",
   "execution_count": 6,
   "metadata": {
    "scrolled": false
   },
   "outputs": [],
   "source": [
    "# # Feature Importance with Extra Trees Classifier\n",
    "# start = time.time()\n",
    "# # feature extraction\n",
    "# ET = ExtraTreesClassifier()\n",
    "# ET.fit(X, y)\n",
    "\n",
    "# plot_feature_importances(ET)\n",
    "# execution_time = time.time() - start\n",
    "# print('Execution time', time.strftime(\"%H:%M:%S\", time.gmtime(execution_time)))"
   ]
  },
  {
   "cell_type": "code",
   "execution_count": 7,
   "metadata": {
    "scrolled": false
   },
   "outputs": [],
   "source": [
    "\n",
    "\n",
    "# df = datafinal.copy(deep=True)\n",
    "# selected_features = ['num_lab_procedures',\n",
    "#  'num_medications',\n",
    "#  'time_in_hospital',\n",
    "#  'age',\n",
    "#  'num_procedures',\n",
    "#  'number_diagnoses',\n",
    "#  'number_meds',\n",
    "#  'gender_1',\n",
    "#  'race_Caucasian',\n",
    "#  'num_encounters_log',\n",
    "#  'admission_source_id_7',\n",
    "#  'A1Cresult_2',\n",
    "#  'admission_type_id_3',\n",
    "#  'ICDCat1_1',\n",
    "#  'discharge_disposition_id_2',\n",
    "#  'change_1',\n",
    "#  'A1Cresult_1',\n",
    "#  'number_changes',   \n",
    "#  'ICDCat1_3',\n",
    "#  'admission_type_id_5']\n",
    " \n",
    "# X = df[selected_features]\n",
    "# y = df['readmitted']\n",
    "\n",
    "# #define X and y \n",
    "# X = df.drop(['readmitted'], axis = 1)\n",
    "# y = df.readmitted\n",
    "\n",
    "# test_size = 0.5\n",
    "\n",
    "# seed = 2\n",
    "\n",
    "# X_train,X_test, y_train, y_test = train_test_split(X, y, test_size=test_size, random_state=2, stratify=y)\n",
    "\n",
    "# #Stratified Kfold\n",
    "# cv = RepeatedStratifiedKFold(n_splits=10, n_repeats=3, random_state=1)\n",
    "# print('Dataset: Class 0=%d, Class 1=%d' % (len(y[y==0]), len(y[y==1])))\n",
    "# print('Train: Class 0=%d, Class 1=%d' % (len(y_train[y_train==0]), len(y_train[y_train==1]))) \n",
    "# print('Test: Class 0=%d, Class 1=%d' % (len(y_test[y_test==0]), len(y_test[y_test==1])))\n",
    "\n",
    "# print('Relative frequencies of the class (train)')\n",
    "# print(y_train.value_counts(normalize=True))\n",
    "# print('Relative frequencies of the class (test)')\n",
    "# print(y_test.value_counts(normalize=True))\n"
   ]
  },
  {
   "cell_type": "markdown",
   "metadata": {},
   "source": [
    "[<a href=\"#Module-5-Final-Project\">Jump back to Table of Contents</a>]  "
   ]
  },
  {
   "cell_type": "markdown",
   "metadata": {},
   "source": [
    "# Evaluate Algorithms  \n"
   ]
  },
  {
   "cell_type": "markdown",
   "metadata": {},
   "source": [
    "Before we start the evaluation of different models, let's define the different functions that we will use in model evaluation."
   ]
  },
  {
   "cell_type": "markdown",
   "metadata": {},
   "source": [
    "[<a href=\"#Module-5-Final-Project\">Jump back to Table of Contents</a>]  "
   ]
  },
  {
   "cell_type": "code",
   "execution_count": 8,
   "metadata": {},
   "outputs": [],
   "source": [
    "#Calculate prevalence\n",
    "def calc_prevalence(y_test):\n",
    "    return (sum(y_test)/len(y_test))\n"
   ]
  },
  {
   "cell_type": "code",
   "execution_count": 9,
   "metadata": {},
   "outputs": [],
   "source": [
    "#Calculate specificity\n",
    "def calc_specificity(y_test, predictions, thresh):\n",
    "    # calculates specificity\n",
    "    return sum((predictions < thresh) & (y_test == 0)) /sum(y_test ==0)"
   ]
  },
  {
   "cell_type": "code",
   "execution_count": 10,
   "metadata": {},
   "outputs": [],
   "source": [
    "#Calculate and print scores        \n",
    "def print_scores(y_test, y_pred):\n",
    "    from sklearn.metrics import accuracy_score \n",
    "    from sklearn.metrics import precision_score\n",
    "    from sklearn.metrics import recall_score\n",
    "    from sklearn.metrics import f1_score\n",
    "    from sklearn.metrics import mean_squared_error  \n",
    "    from sklearn.metrics import r2_score\n",
    "    from sklearn.metrics import roc_auc_score\n",
    "    from sklearn.metrics import auc\n",
    "    from sklearn.metrics import classification_report\n",
    "    from sklearn.metrics import roc_curve\n",
    "    from sklearn.metrics import precision_score       \n",
    "    print(\"Accuracy: {}\".format((accuracy_score(y_test, y_pred).round(decimals=4)*100)),'%')\n",
    "    print(\"Precision: {}\".format(precision_score(y_test, y_pred)))\n",
    "    print(\"Recall: {}\".format(recall_score(y_test, y_pred)))\n",
    "    print(\"F1-score: {}\".format(f1_score(y_test, y_pred)))\n",
    "    print(\"R2: {}\".format(r2_score(y_test, y_pred)))\n",
    "    print(\"MSE: {}\".format(mean_squared_error(y_test, y_pred)))\n",
    "    print(\"Prevalence: {}\".format(calc_prevalence(y_pred)))\n",
    "    print(\"Specificity: {}\".format(calc_specificity(y_test, y_pred, 0.5)))\n",
    "    print('---------------------------------------------------------------------')\n",
    "    print('\\n','Classification Report:')\n",
    "    print(classification_report(y_test, y_pred, target_names = ['NO', 'YES']))\n",
    "    print('---------------------------------------------------------------------')\n",
    "    # Confusion matrix plot   \n",
    "    from sklearn.metrics import confusion_matrix\n",
    "    conf_mat = confusion_matrix(y_true=y_test, y_pred=y_pred)\n",
    "    print('Confusion matrix:\\n', conf_mat)\n",
    "    labels = ['Class 0', 'Class 1']\n",
    "    fig = plt.figure()\n",
    "    ax = fig.add_subplot(111)\n",
    "    cax = ax.matshow(conf_mat, cmap=plt.cm.Blues)\n",
    "    fig.colorbar(cax)\n",
    "    ax.set_xticklabels([''] + labels)\n",
    "    ax.set_yticklabels([''] + labels)\n",
    "    plt.xlabel('Predicted')\n",
    "    plt.ylabel('Expected')\n",
    "    plt.show()\n"
   ]
  },
  {
   "cell_type": "code",
   "execution_count": 11,
   "metadata": {},
   "outputs": [],
   "source": [
    "#plot ROC curve\n",
    "def plot_roc_curve(y_test, model_probs, lblname):\n",
    "    from sklearn.metrics import precision_recall_curve\n",
    "    from sklearn.metrics import auc\n",
    "    from sklearn.metrics import f1_score\n",
    "    from sklearn.metrics import recall_score\n",
    "    from sklearn.metrics import precision_score\n",
    "    auc = roc_auc_score(y_test, model_probs) \n",
    "    fpr, tpr, _ = roc_curve(y_test, model_probs)\n",
    "    sns.set_style(\"darkgrid\", {\"axes.facecolor\": \".9\"})\n",
    "    plt.plot(fpr, tpr, color='darkorange',\n",
    "             lw=2, label = 'ROC AUC: %.3f' % roc_auc_score(y_test, model_probs).round(decimals=3))\n",
    "    plt.plot([0, 1], [0, 1], color='red', lw=2, linestyle='--', alpha=.8)\n",
    "    plt.xlim([0,1])\n",
    "    plt.ylim([0,1])\n",
    "    plt.xticks(np.arange(0,1.1,0.1))\n",
    "    plt.yticks(np.arange(0,1.1,0.1))\n",
    "    plt.xlabel('False Positive Rate')\n",
    "    plt.ylabel('True Positive Rate')\n",
    "    plt.title('Receiver operating characteristic (ROC) Curve')\n",
    "    plt.legend(loc=\"lower right\")\n",
    "    plt.show();\n",
    "   "
   ]
  },
  {
   "cell_type": "code",
   "execution_count": 12,
   "metadata": {},
   "outputs": [],
   "source": [
    " \n",
    "# plot the Precision-Recall Curve\n",
    "def plot_pr_curve(y_test, y_pred, model_probs, lblname):\n",
    "    from sklearn.metrics import precision_recall_curve\n",
    "    from sklearn.metrics import auc\n",
    "    from sklearn.metrics import f1_score\n",
    "    from sklearn.metrics import recall_score\n",
    "    from sklearn.metrics import precision_score\n",
    "    precision, recall, _ = precision_recall_curve(y_test, model_probs)\n",
    "    f1, pr_auc = f1_score(y_test, y_pred), auc(recall, precision)\n",
    "    print('f1=%.3f PR AUC=%.3f' % (f1, pr_auc))\n",
    "    # calculate the no skill line as the proportion of the positive class\n",
    "    no_skill = len(y[y==1]) / len(y)\n",
    "    # plot the no skill precision-recall curve\n",
    "    plt.plot([0, 1], [no_skill, no_skill],color='red', linestyle='--', label='Random') \n",
    "    precision, recall, _ = precision_recall_curve(y_test, model_probs)\n",
    "    plt.plot(recall, precision, marker='.', label=  'PR AUC: %.3f' % auc(recall, precision).round(decimals=3))\n",
    "    plt.xlabel('Recall')\n",
    "    plt.ylabel('Precision')\n",
    "    plt.title('Precision-Recall curve')\n",
    "      # show the legend\n",
    "    plt.legend()\n",
    "      # show the plot\n",
    "    plt.show()\n",
    " "
   ]
  },
  {
   "cell_type": "code",
   "execution_count": 25,
   "metadata": {},
   "outputs": [],
   "source": [
    "#Calculate scores at 25% threshold\n",
    "def print_scores_thresh(y_test, y_pred):\n",
    "    print('---------------------------------------------------------------------')\n",
    "    print('scores with threshold = 0.25')\n",
    "    print('Accuracy: %.3f'%(accuracy_score(y_test, (LR_probs >= 0.25).astype('int'))))\n",
    "    print('Recall: %.3f'%(recall_score(y_test, (LR_probs >= 0.25).astype('int'))))\n",
    "    print('Precision: %.3f'%(precision_score(y_test, (LR_probs >= 0.25).astype('int'))))\n",
    "    print('F1-score: %.3f'%(f1_score(y_test, (LR_probs >= 0.25).astype('int'))))\n",
    "    print('AUC: %.3f'%(roc_auc_score(y_test, (LR_probs >= 0.25).astype('int'))))\n",
    "    print(\"Prevalence: {}\".format(calc_prevalence(LR_probs >= 0.25).astype('int')))\n",
    "    print(\"Specificity: {}\".format(calc_specificity(y_test, y_pred, 0.25)))\n",
    "    print('---------------------------------------------------------------------')\n",
    "    print(classification_report(y_test, (LR_probs >= 0.25).astype('int'), target_names = ['NO', 'YES']))\n",
    "    display(pd.crosstab(y_test, y_pred, rownames=['True'], colnames=['Predicted'], margins=True))\n",
    "    print('')\n",
    "def print_mean_rocauc_scores(scores):\n",
    "    from numpy import mean\n",
    "    print('Mean ROC AUC: %.3f' % mean(scores))"
   ]
  },
  {
   "cell_type": "markdown",
   "metadata": {},
   "source": [
    "[<a href=\"#Module-5-Final-Project\">Jump back to Table of Contents</a>]  "
   ]
  },
  {
   "cell_type": "markdown",
   "metadata": {},
   "source": [
    "Classification is used to predict which category something will fall into. We are trying to figure out whether the hospitalized patient with diabetes is likely to be readmitted in 30 days or not readmitted.  "
   ]
  },
  {
   "cell_type": "markdown",
   "metadata": {},
   "source": [
    "# Logistic Regression"
   ]
  },
  {
   "cell_type": "code",
   "execution_count": 28,
   "metadata": {
    "scrolled": false
   },
   "outputs": [
    {
     "name": "stdout",
     "output_type": "stream",
     "text": [
      "Mean ROC AUC: 0.594\n",
      "Accuracy: 65.8 %\n",
      "Precision: 0.12318137730358875\n",
      "Recall: 0.49224806201550386\n",
      "F1-score: 0.19705197827773466\n",
      "R2: -3.3854428053966084\n",
      "MSE: 0.3419509374741885\n",
      "Prevalence: 0.34062938795738\n",
      "Specificity: 0.6734988713318284\n",
      "---------------------------------------------------------------------\n",
      "\n",
      " Classification Report:\n",
      "              precision    recall  f1-score   support\n",
      "\n",
      "          NO       0.93      0.67      0.78     11075\n",
      "         YES       0.12      0.49      0.20      1032\n",
      "\n",
      "    accuracy                           0.66     12107\n",
      "   macro avg       0.53      0.58      0.49     12107\n",
      "weighted avg       0.87      0.66      0.73     12107\n",
      "\n",
      "---------------------------------------------------------------------\n",
      "Confusion matrix:\n",
      " [[7459 3616]\n",
      " [ 524  508]]\n"
     ]
    },
    {
     "data": {
      "image/png": "[encoded data removed]",
      "text/plain": [
       "<Figure size 432x288 with 2 Axes>"
      ]
     },
     "metadata": {},
     "output_type": "display_data"
    },
    {
     "data": {
      "image/png": "[encoded data removed]",
      "text/plain": [
       "<Figure size 432x288 with 1 Axes>"
      ]
     },
     "metadata": {},
     "output_type": "display_data"
    },
    {
     "name": "stdout",
     "output_type": "stream",
     "text": [
      "f1=0.197 PR AUC=0.128\n"
     ]
    },
    {
     "data": {
      "image/png": "[encoded data removed]",
      "text/plain": [
       "<Figure size 432x288 with 1 Axes>"
      ]
     },
     "metadata": {},
     "output_type": "display_data"
    },
    {
     "name": "stdout",
     "output_type": "stream",
     "text": [
      "Execution time 00:00:08\n"
     ]
    }
   ],
   "source": [
    "\n",
    "start = time.time()\n",
    "\n",
    "X, y = load_data('final_data.csv')                                    # load data\n",
    "X_train, X_test, y_train, y_test  = split_train_test(X, y)            # split data\n",
    "\n",
    "LR = LogisticRegression(solver='lbfgs')\n",
    "\n",
    "#Evaluate the model using accuracy scoring\n",
    "cv = RepeatedStratifiedKFold(n_splits=10, n_repeats=3, random_state=1)\n",
    "scores = cross_val_score(LR,  X_train, y_train, scoring='roc_auc', cv=cv, n_jobs=-1)\n",
    "print_mean_rocauc_scores(scores)\n",
    "#########################################################\n",
    "# Use SMOTE to increase recall especially for predicting \n",
    "# the minority class ...but may come at the cost of precision\n",
    "#########################################################\n",
    "sm = SMOTE(random_state=2, ratio=1.0)                                 # Define sampling\n",
    "X_train, y_train = sm.fit_sample(X_train, y_train)\n",
    "\n",
    "model = LR.fit(X_train, y_train)      # define/fit model\n",
    "\n",
    "LR_probs= model.predict_proba(X_test)[:, 1]              # predict probabilities for the positive outcome only\n",
    "y_pred = model.predict(X_test)                           # predict\n",
    "\n",
    "fpr_LR, tpr_LR, thresholds = roc_curve(y_test, LR_probs)              #calculate roc_auc score\n",
    "LR_precision, LR_recall, _ = precision_recall_curve(y_test, LR_probs) #calculate pr_auc score\n",
    "\n",
    "#Summary report:\n",
    "print_scores(y_test, y_pred)\n",
    "plot_roc_curve(y_test, LR_probs,  'LR')\n",
    "plot_pr_curve(y_test, y_pred, LR_probs, 'LR')   \n",
    "    \n",
    "exec_time()\n",
    "\n"
   ]
  },
  {
   "cell_type": "markdown",
   "metadata": {},
   "source": [
    "[<a href=\"#Module-5-Final-Project\">Jump back to Table of Contents</a>]  "
   ]
  },
  {
   "cell_type": "markdown",
   "metadata": {},
   "source": [
    "## Logistic Regression Model Tuning"
   ]
  },
  {
   "cell_type": "code",
   "execution_count": 29,
   "metadata": {
    "scrolled": false
   },
   "outputs": [
    {
     "name": "stdout",
     "output_type": "stream",
     "text": [
      "Mean ROC AUC: 0.621\n",
      "Best AUC score: 0.651474 using  {'C': 100, 'class_weight': {0: 1, 1: 1}}\n",
      "0.564967 (0.010093) with: {'C': 0.001, 'class_weight': {0: 100, 1: 1}}\n",
      "0.614973 (0.005141) with: {'C': 0.001, 'class_weight': {0: 10, 1: 1}}\n",
      "0.646720 (0.005426) with: {'C': 0.001, 'class_weight': {0: 1, 1: 1}}\n",
      "0.640935 (0.005525) with: {'C': 0.001, 'class_weight': {0: 1, 1: 10}}\n",
      "0.617996 (0.006787) with: {'C': 0.001, 'class_weight': {0: 1, 1: 100}}\n",
      "0.635965 (0.013128) with: {'C': 0.01, 'class_weight': {0: 100, 1: 1}}\n",
      "0.650142 (0.005134) with: {'C': 0.01, 'class_weight': {0: 10, 1: 1}}\n",
      "0.650993 (0.005254) with: {'C': 0.01, 'class_weight': {0: 1, 1: 1}}\n",
      "0.648273 (0.005319) with: {'C': 0.01, 'class_weight': {0: 1, 1: 10}}\n",
      "0.623215 (0.008319) with: {'C': 0.01, 'class_weight': {0: 1, 1: 100}}\n",
      "0.636203 (0.017304) with: {'C': 0.1, 'class_weight': {0: 100, 1: 1}}\n",
      "0.648567 (0.005009) with: {'C': 0.1, 'class_weight': {0: 10, 1: 1}}\n",
      "0.651278 (0.005322) with: {'C': 0.1, 'class_weight': {0: 1, 1: 1}}\n",
      "0.648723 (0.005324) with: {'C': 0.1, 'class_weight': {0: 1, 1: 10}}\n",
      "0.622651 (0.008506) with: {'C': 0.1, 'class_weight': {0: 1, 1: 100}}\n",
      "0.636496 (0.014009) with: {'C': 1, 'class_weight': {0: 100, 1: 1}}\n",
      "0.648280 (0.005216) with: {'C': 1, 'class_weight': {0: 10, 1: 1}}\n",
      "0.651455 (0.005336) with: {'C': 1, 'class_weight': {0: 1, 1: 1}}\n",
      "0.648670 (0.005318) with: {'C': 1, 'class_weight': {0: 1, 1: 10}}\n",
      "0.622647 (0.008461) with: {'C': 1, 'class_weight': {0: 1, 1: 100}}\n",
      "0.635551 (0.012400) with: {'C': 10, 'class_weight': {0: 100, 1: 1}}\n",
      "0.648241 (0.005057) with: {'C': 10, 'class_weight': {0: 10, 1: 1}}\n",
      "0.651472 (0.005330) with: {'C': 10, 'class_weight': {0: 1, 1: 1}}\n",
      "0.648842 (0.005467) with: {'C': 10, 'class_weight': {0: 1, 1: 10}}\n",
      "0.622644 (0.008453) with: {'C': 10, 'class_weight': {0: 1, 1: 100}}\n",
      "0.632700 (0.018141) with: {'C': 100, 'class_weight': {0: 100, 1: 1}}\n",
      "0.648195 (0.005091) with: {'C': 100, 'class_weight': {0: 10, 1: 1}}\n",
      "0.651474 (0.005332) with: {'C': 100, 'class_weight': {0: 1, 1: 1}}\n",
      "0.648840 (0.005267) with: {'C': 100, 'class_weight': {0: 1, 1: 10}}\n",
      "0.622644 (0.008453) with: {'C': 100, 'class_weight': {0: 1, 1: 100}}\n",
      "Execution time 00:03:11\n"
     ]
    }
   ],
   "source": [
    "## ⏰ This cell may take a long time to run!\n",
    "# grid search class weights with logistic regression for imbalance classification\n",
    "start = time.time()\n",
    "\n",
    "X, y = load_data('final_data.csv')                                    # load data\n",
    "X_train, X_test, y_train, y_test  = split_train_test(X, y)            # split data\n",
    "\n",
    "# define model\n",
    "lr = LogisticRegression()\n",
    "\n",
    "# define grid\n",
    "C_param_range = [0.001, 0.01, 0.1, 1, 10, 100]\n",
    "balance = [{0:100,1:1}, {0:10,1:1}, {0:1,1:1}, {0:1,1:10}, {0:1,1:100}] \n",
    "\n",
    "param_grid = dict(class_weight=balance, C=C_param_range)\n",
    "\n",
    "cv = RepeatedStratifiedKFold(n_splits=10, n_repeats=3, random_state=1)\n",
    "scores = cross_val_score(lr, X_train, y_train, scoring='roc_auc', cv=cv, n_jobs=-1)\n",
    "print_mean_rocauc_scores(scores)\n",
    "\n",
    "# define grid search\n",
    "grid = GridSearchCV(estimator=lr, param_grid=param_grid, cv=cv, n_jobs=-1, scoring='roc_auc')\n",
    "# execute the grid search\n",
    "\n",
    "sm = SMOTE(random_state=2, ratio=1.0)                                 # Define sampling\n",
    "X_train, y_train = sm.fit_sample(X_train, y_train)\n",
    "\n",
    "grid_result = grid.fit(X_train, y_train)\n",
    "               \n",
    "# print results\n",
    "print(\"Best AUC score: %f using  %s\" % (grid_result.best_score_, grid_result.best_params_))\n",
    "\n",
    "# report all configurations\n",
    "means = grid_result.cv_results_['mean_test_score']\n",
    "stds = grid_result.cv_results_['std_test_score']\n",
    "params = grid_result.cv_results_['params']\n",
    "for mean, stdev, param in zip(means, stds, params):\n",
    "    print('%f (%f) with: %r' % (mean, stdev, param))\n",
    "    \n",
    "execution_time = time.time() - start\n",
    "print('Execution time', time.strftime(\"%H:%M:%S\", time.gmtime(execution_time)))\n",
    "\n",
    "#Best AUC score: 0.651474 using  {'C': 100, 'class_weight': {0: 1, 1: 1}}"
   ]
  },
  {
   "cell_type": "code",
   "execution_count": 32,
   "metadata": {
    "scrolled": true
   },
   "outputs": [
    {
     "name": "stdout",
     "output_type": "stream",
     "text": [
      "Mean ROC AUC: 0.621\n",
      "Accuracy: 65.69 %\n",
      "Precision: 0.12619731800766285\n",
      "Recall: 0.5106589147286822\n",
      "F1-score: 0.20238095238095238\n",
      "R2: -3.400272805221621\n",
      "MSE: 0.3431072933013959\n",
      "Prevalence: 0.3449244238870075\n",
      "Specificity: 0.6705191873589165\n",
      "---------------------------------------------------------------------\n",
      "\n",
      " Classification Report:\n",
      "              precision    recall  f1-score   support\n",
      "\n",
      "          NO       0.94      0.67      0.78     11075\n",
      "         YES       0.13      0.51      0.20      1032\n",
      "\n",
      "    accuracy                           0.66     12107\n",
      "   macro avg       0.53      0.59      0.49     12107\n",
      "weighted avg       0.87      0.66      0.73     12107\n",
      "\n",
      "---------------------------------------------------------------------\n",
      "Confusion matrix:\n",
      " [[7426 3649]\n",
      " [ 505  527]]\n"
     ]
    },
    {
     "data": {
      "image/png": "[encoded data removed]",
      "text/plain": [
       "<Figure size 432x288 with 2 Axes>"
      ]
     },
     "metadata": {},
     "output_type": "display_data"
    },
    {
     "data": {
      "image/png": "[encoded data removed]",
      "text/plain": [
       "<Figure size 432x288 with 1 Axes>"
      ]
     },
     "metadata": {},
     "output_type": "display_data"
    },
    {
     "name": "stdout",
     "output_type": "stream",
     "text": [
      "f1=0.202 PR AUC=0.138\n"
     ]
    },
    {
     "data": {
      "image/png": "[encoded data removed]",
      "text/plain": [
       "<Figure size 432x288 with 1 Axes>"
      ]
     },
     "metadata": {},
     "output_type": "display_data"
    },
    {
     "name": "stdout",
     "output_type": "stream",
     "text": [
      "Execution time 00:00:03\n"
     ]
    }
   ],
   "source": [
    "    \n",
    "#Let's run the model again with the hypertuned parameters and scaled data\n",
    "start = time.time()\n",
    "\n",
    "X, y = load_data('final_data.csv')                                    # load data\n",
    "\n",
    "X_train, X_test, y_train, y_test  = split_train_test(X, y)            # split data\n",
    "\n",
    "LR_tuned = Pipeline(steps=[('t', StandardScaler())                        # Model w/ Tuned params\n",
    "                           ,('m',LogisticRegression(C=100\n",
    "                           , class_weight={0: 1, 1: 1}\n",
    "                           , solver='lbfgs'))])                         \n",
    "\n",
    "# evaluation procedure\n",
    "cv = RepeatedStratifiedKFold(n_splits=10, n_repeats=3, random_state=1)\n",
    "scores = cross_val_score(LR_tuned, X_train, y_train, scoring='roc_auc', cv=cv, n_jobs=-1)\n",
    "print_mean_rocauc_scores(scores)\n",
    "\n",
    "sm = SMOTE(random_state=2, ratio=1.0)                               # Define Oversampling\n",
    "X_train, y_train = sm.fit_sample(X_train, y_train)                  # fit on SMOTE on train data\n",
    "\n",
    "LR_tuned.fit(X_train, y_train)                                #fit the model\n",
    "LRt_probs= LR_tuned.predict_proba(X_test)[:,1]                # predict probabilities for the positive outcome only\n",
    "\n",
    "y_pred = LR_tuned.predict(X_test) # predict \n",
    "fpr_LRt, tpr_LRt, thresholds = roc_curve(y_test, LRt_probs)               #calculate roc_auc score\n",
    "LRt_precision, LRt_recall, _ = precision_recall_curve(y_test, LRt_probs)  #calculate pr_auc score\n",
    "\n",
    "#Summarize:\n",
    "print_scores(y_test, y_pred)\n",
    "plot_roc_curve(y_test, LRt_probs,  'LR')\n",
    "plot_pr_curve(y_test, y_pred, LRt_probs, 'LR')   \n",
    " \n",
    "exec_time()\n"
   ]
  },
  {
   "cell_type": "markdown",
   "metadata": {},
   "source": [
    "**Tuning result:**  As seen from the above, the ROC AUC score improved from ROC AUC 0.623 to ROC AUC 0.626 with the hypertuned parameters. \n",
    "However, the score is not good enough so let's evaluate other models.  \n",
    "Logistic ROC AUC 0.623  \n",
    "Logistic PR AUC: 0.132  \n",
    "Tuned:    \n",
    "Logistic ROC AUC 0.626  \n",
    "Logistic PR AUC: 0.130  "
   ]
  },
  {
   "cell_type": "markdown",
   "metadata": {},
   "source": [
    "[<a href=\"#Module-5-Final-Project\">Jump back to Table of Contents</a>]  "
   ]
  },
  {
   "cell_type": "markdown",
   "metadata": {},
   "source": [
    "# KNeighborsClassifier"
   ]
  },
  {
   "cell_type": "code",
   "execution_count": null,
   "metadata": {
    "scrolled": false
   },
   "outputs": [],
   "source": [
    "start = time.time()\n",
    "\n",
    "X, y = load_data('final_data.csv')                                            # load data\n",
    "X_train, X_test, y_train, y_test  = split_train_test(X, y)                    # split data\n",
    "\n",
    "KNN = Pipeline(steps=[('t', StandardScaler())\n",
    "                      ,('m', KNeighborsClassifier ())]).fit(X_train, y_train) # define/fit model\n",
    "\n",
    "KNN_probs = KNN.predict_proba(X_test)[:, 1]             # predict probabilities for the positive \n",
    "y_pred = KNN.predict(X_test)                                                  # predict \n",
    "\n",
    "fpr_KNN, tpr_KNN, thresholds = roc_curve(y_test, KNN_probs)                   #calculate roc_auc score\n",
    "KNN_precision, KNN_recall, _ = precision_recall_curve(y_test, KNN_probs)      #calculate pr_auc score\n",
    "\n",
    "#Summarize:\n",
    "print_scores(y_test, y_pred)\n",
    "plot_roc_curve(y_test, KNN_probs,  'KNN')\n",
    "plot_pr_curve(y_test, y_pred, KNN_probs, 'KNN') \n",
    "\n",
    "exec_time()"
   ]
  },
  {
   "cell_type": "markdown",
   "metadata": {},
   "source": [
    "[<a href=\"#Module-5-Final-Project\">Jump back to Table of Contents</a>]  "
   ]
  },
  {
   "cell_type": "markdown",
   "metadata": {},
   "source": [
    "# KNN Tuning Parameters"
   ]
  },
  {
   "cell_type": "code",
   "execution_count": null,
   "metadata": {
    "scrolled": false
   },
   "outputs": [],
   "source": [
    "## ⏰ This cell may take about a minute to run!\n",
    "\n",
    "start = time.time()\n",
    "#Improve model performance - find the optimal number of neighbors to use for the classifier. \n",
    "#To do this, complete the find_best_k() function below to iterate over multiple values of K and \n",
    "#find the value of K that returns the best overall performance\n",
    "def find_best_k(X_train, y_train, X_test, y_test, min_k=1, max_k=25):\n",
    "    best_k = 0\n",
    "    best_score = 0.0\n",
    "    for k in range(min_k, max_k+1, 2):\n",
    "        knn = KNeighborsClassifier(n_neighbors=k)\n",
    "        knn.fit(X_train, y_train)\n",
    "        preds = knn.predict(X_test)\n",
    "        f1 = f1_score(y_test, preds)\n",
    "        if f1 > best_score:\n",
    "            best_k = k\n",
    "            best_score = f1\n",
    "    \n",
    "    print(\"Best Value for k: {}\".format(best_k))\n",
    "    print(\"F1-Score: {}\".format(best_score))\n",
    "find_best_k(X_train, y_train, X_test, y_test)\n",
    "\n",
    "exec_time()"
   ]
  },
  {
   "cell_type": "markdown",
   "metadata": {},
   "source": [
    "[<a href=\"#Module-5-Final-Project\">Jump back to Table of Contents</a>]  "
   ]
  },
  {
   "cell_type": "markdown",
   "metadata": {},
   "source": [
    "## KNN Tuned Model"
   ]
  },
  {
   "cell_type": "code",
   "execution_count": null,
   "metadata": {
    "scrolled": true
   },
   "outputs": [],
   "source": [
    "#Run the improved model with best_k=1\n",
    "start = time.time()\n",
    "\n",
    "X, y = load_data('final_data.csv')                                         # load data\n",
    "X_train, X_test, y_train, y_test  = split_train_test(X, y)                 # split data\n",
    "\n",
    "KNT = Pipeline(steps=[('t', StandardScaler())\n",
    "                      ,('m', KNeighborsClassifier(n_neighbors=1))]).fit(X_train, y_train) # define/fit model\n",
    "\n",
    "KNT_probs = KNT.predict_proba(X_test)[:, 1]                                # predict probabilities for the positive \n",
    "y_pred = KNT.predict(X_test)                                               # predict \n",
    "\n",
    "fpr_KNN, tpr_KNT, thresholds = roc_curve(y_test, KNT_probs)                #calculate roc_auc score\n",
    "KNT_precision, KNT_recall, _ = precision_recall_curve(y_test, KNT_probs)   #calculate pr_auc score\n",
    "\n",
    "#Summarize:\n",
    "print_scores(y_test, y_pred)\n",
    "plot_roc_curve(y_test, KNT_probs,  'KNT')\n",
    "plot_pr_curve(y_test, y_pred, KNT_probs, 'KNT') \n",
    "\n",
    "exec_time()\n",
    "\n"
   ]
  },
  {
   "cell_type": "markdown",
   "metadata": {},
   "source": [
    "**Tuning result:**  Tuned KNN Precision Recall is PR AUC: 0.139 which has slightly improved from AUC: 0.098"
   ]
  },
  {
   "cell_type": "markdown",
   "metadata": {},
   "source": [
    "[<a href=\"#Module-5-Final-Project\">Jump back to Table of Contents</a>]  "
   ]
  },
  {
   "cell_type": "markdown",
   "metadata": {},
   "source": [
    "# DecisionTreeClassifier\n",
    " area under the precision-recall metric. The problem is the shape of the AUPRC \n",
    "For DecisionTreeClassifier, replace predict with pred_proba; the latter serves the same role as decision_function."
   ]
  },
  {
   "cell_type": "code",
   "execution_count": null,
   "metadata": {
    "scrolled": false
   },
   "outputs": [],
   "source": [
    "start = time.time()\n",
    "\n",
    "X, y = load_data('final_data.csv')                                    # load data\n",
    "X_train, X_test, y_train, y_test  = split_train_test(X, y)            # split data\n",
    "\n",
    "DT = DecisionTreeClassifier().fit(X_train, y_train)           # define/fit model\n",
    "\n",
    "# predict probabilities\n",
    "DT_probs = DT.predict_proba(X_test)[:, 1]                        # predict probabilities for the positive outcome only\n",
    "y_pred = DT.predict(X_test)                                      # predict\n",
    "\n",
    "fpr_DT, tpr_DT, thresholds = roc_curve(y_test, DT_probs)              #calculate roc_auc score\n",
    "DT_precision, DT_recall, _ = precision_recall_curve(y_test, DT_probs) #calculate pr_auc score\n",
    "\n",
    "#Summarize:\n",
    "print_scores(y_test, y_pred)\n",
    "plot_roc_curve(y_test, DT_probs,  'DT')\n",
    "plot_pr_curve(y_test, y_pred, DT_probs, 'DT') \n",
    "\n",
    "exec_time()\n",
    "\n"
   ]
  },
  {
   "cell_type": "markdown",
   "metadata": {},
   "source": [
    "[<a href=\"#Module-5-Final-Project\">Jump back to Table of Contents</a>]  "
   ]
  },
  {
   "cell_type": "markdown",
   "metadata": {},
   "source": [
    "## Decision Tree Tuning Parameters"
   ]
  },
  {
   "cell_type": "code",
   "execution_count": null,
   "metadata": {
    "scrolled": true
   },
   "outputs": [],
   "source": [
    "## ⏰ This cell may take a long time to run!\n",
    "# Tune Decision Tree\n",
    "# Instantiate DecisionTreeClassifier\n",
    "\n",
    "start = time.time()\n",
    "#define model\n",
    "DT = DecisionTreeClassifier(criterion='entropy')\n",
    "\n",
    "# define grid\n",
    "dt_param_grid = {\n",
    "    'criterion': ['gini', 'entropy'],\n",
    "    'max_depth': [None, 2, 3, 4, 5, 6],\n",
    "    'min_samples_split': [2, 5, 10],\n",
    "    'min_samples_leaf': [1, 2, 3, 4, 5, 6],\n",
    "    'max_features' : [10,15, 20, 22, 24, 25, 28, 30,35, 30, 35, 40, 45]\n",
    "}\n",
    "\n",
    "# evaluation procedure\n",
    "cv = RepeatedStratifiedKFold(n_splits=10, n_repeats=3, random_state=1)\n",
    "\n",
    "# Instantiate GridSearchCV\n",
    "dt_grid_search = GridSearchCV(estimator=DT, param_grid=dt_param_grid, cv=cv,  n_jobs=-1, scoring='roc_auc')\n",
    "\n",
    "# execute the grid search\n",
    "dt_grid_search.fit(X_train, y_train)\n",
    "\n",
    "\n",
    "print(\"Best Parameter Combination Found During Grid Search:\")\n",
    "print(dt_grid_search.best_params_)\n",
    "\n",
    "\n",
    "# report all configurations\n",
    "means = dt_grid_search.cv_results_['mean_test_score']\n",
    "stds = dt_grid_search.cv_results_['std_test_score']\n",
    "params = dt_grid_search.cv_results_['params']\n",
    "for mean, stdev, param in zip(means, stds, params):\n",
    "    print('%f (%f) with: %r' % (mean, stdev, param))\n",
    "\n",
    "exec_time()\n",
    "\n",
    "\"\"\"\n",
    "Best Parameter Combination Found During Grid Search:\n",
    "{'criterion': 'entropy', 'max_depth': 5, 'max_features': 35, 'min_samples_leaf': 2, 'min_samples_split': 2}\n",
    "Execution time 00:23:04\n",
    "\"\"\""
   ]
  },
  {
   "cell_type": "markdown",
   "metadata": {},
   "source": [
    "[<a href=\"#Module-5-Final-Project\">Jump back to Table of Contents</a>]  "
   ]
  },
  {
   "cell_type": "markdown",
   "metadata": {},
   "source": [
    "## Decision Tree Tuned Model"
   ]
  },
  {
   "cell_type": "code",
   "execution_count": null,
   "metadata": {
    "scrolled": false
   },
   "outputs": [],
   "source": [
    "#Run Tuned Model with Best Parameter Combination Found During Grid Search:\n",
    "\n",
    "start = time.time()\n",
    "\n",
    "X, y = load_data('final_data.csv')                                              # load data\n",
    "X_train, X_test, y_train, y_test  = split_train_test(X, y)                      # split data\n",
    "\n",
    "# sm = SMOTE(random_state=27, ratio=1.0)                                        # SMOTE\n",
    "# X_train, y_train = sm.fit_sample(X_train, y_train)\n",
    "\n",
    "DTT = DecisionTreeClassifier(criterion='entropy'\n",
    "                             , max_depth= 5\n",
    "                             , min_samples_leaf= 2\n",
    "                             , min_samples_split= 2).fit(X_train, y_train)  \n",
    "\n",
    "DTT_probs= DTT.predict_proba(X_test)[:, 1]             # predict probabilities for the positive outcome only\n",
    "\n",
    "y_pred = DTT.predict(X_test)                                                    # predict\n",
    "fpr_DTT, tpr_DTT, thresholds = roc_curve(y_test, DTT_probs)                     #calculate roc_auc score\n",
    "DTT_precision, DTT_recall, _ = precision_recall_curve(y_test, DTT_probs)        #calculate pr_auc score\n",
    "\n",
    "#Summarize:\n",
    "print_scores(y_test, y_pred)\n",
    "plot_roc_curve(y_test, DTT_probs,  'DTT')\n",
    "plot_pr_curve(y_test, y_pred, DTT_probs, 'DTT') \n",
    "\n",
    "exec_time()\n",
    "\n"
   ]
  },
  {
   "cell_type": "markdown",
   "metadata": {},
   "source": [
    "**Tuning Results:** \n",
    "Pre-tuned  DT Scores:  \n",
    "DTT ROC AUC 0.516  \n",
    "DTT PR AUC: 0.155  \n",
    "Tuned DT Scores:  \n",
    "DTT ROC AUC 0.608  \n",
    "DTT PR AUC: 0.128 "
   ]
  },
  {
   "cell_type": "markdown",
   "metadata": {},
   "source": [
    "**Tuning result:** While accuracy slightly decreased, we slightly improved the AUC, Precision score, Recall, F1- score with some tuning and decreased prediction errors (MAE & MSE)\n"
   ]
  },
  {
   "cell_type": "markdown",
   "metadata": {},
   "source": [
    "Mean Absolute Error (MAE): MAE measures the average magnitude of the errors in a set of predictions, without considering their direction. It’s the average over the test sample of the absolute differences between prediction and actual observation where all individual differences have equal weight.  \n",
    "Root mean squared error (RMSE): RMSE is a quadratic scoring rule that also measures the average magnitude of the error. It’s the square root of the average of squared differences between prediction and actual observation.  \n",
    "Both MAE and RMSE express average model prediction error in units of the variable of interest. Both metrics can range from 0 to ∞ and are indifferent to the direction of errors. They are negatively-oriented scores, which means lower values are better."
   ]
  },
  {
   "cell_type": "markdown",
   "metadata": {},
   "source": [
    "[<a href=\"#Module-5-Final-Project\">Jump back to Table of Contents</a>]  "
   ]
  },
  {
   "cell_type": "markdown",
   "metadata": {},
   "source": [
    "# RandomForestClassifier"
   ]
  },
  {
   "cell_type": "code",
   "execution_count": null,
   "metadata": {
    "scrolled": true
   },
   "outputs": [],
   "source": [
    "start = time.time()\n",
    "\n",
    "X, y = load_data('final_data.csv')                                    # load data\n",
    "X_train, X_test, y_train, y_test  = split_train_test(X, y)            # split data\n",
    "sm = SMOTE(random_state=27, ratio=1.0)                                        # SMOTE\n",
    "X_train, y_train = sm.fit_sample(X_train, y_train)\n",
    "RF = RandomForestClassifier(n_estimators=10, class_weight='balanced').fit(X_train, y_train)  # define/fit model\n",
    " # define/fit model\n",
    "\n",
    "# define evaluation procedure\n",
    "cv = RepeatedStratifiedKFold(n_splits=10, n_repeats=3, random_state=1)\n",
    "\n",
    "\n",
    "#Evaluate the model using roc_auc scoring\n",
    "scores = cross_val_score(RF, X_train, y_train, scoring='roc_auc', cv=cv, n_jobs=-1)\n",
    "\n",
    "\n",
    "RF_probs= RF.predict_proba(X_test)[:, 1]                   # predict probabilities for the positive outcome only\n",
    "\n",
    "y_pred = RF.predict(X_test)\n",
    "fpr_RF, tpr_RF, thresholds = roc_curve(y_test, RF_probs) \n",
    "RF_precision, RF_recall, _ = precision_recall_curve(y_test, RF_probs) \n",
    "\n",
    "#Summarize:\n",
    "print_scores(y_test, y_pred)\n",
    "plot_roc_curve(y_test, RF_probs,  'RF')\n",
    "plot_pr_curve(y_test, y_pred, RF_probs, 'RF') \n",
    "\n",
    "exec_time()\n"
   ]
  },
  {
   "cell_type": "markdown",
   "metadata": {},
   "source": [
    "[<a href=\"#Module-5-Final-Project\">Jump back to Table of Contents</a>]  "
   ]
  },
  {
   "cell_type": "markdown",
   "metadata": {},
   "source": [
    "## Random Forest Tuning Parameters"
   ]
  },
  {
   "cell_type": "code",
   "execution_count": null,
   "metadata": {
    "scrolled": true
   },
   "outputs": [],
   "source": [
    "## ⏰ This cell may take a long time to run!\n",
    "# grid search class weights with RandomForestClassifier for imbalance classification\n",
    "start = time.time()\n",
    "\n",
    "X, y = load_data('final_data.csv')                                    # load data\n",
    "X_train, X_test, y_train, y_test  = split_train_test(X, y)            # split data\n",
    "\n",
    "RF = RandomForestClassifier(criterion='entropy')                      # define model\n",
    "\n",
    "# define grid\n",
    "rf_param_grid = {\n",
    "    'n_estimators': [10, 30, 100],\n",
    "    'criterion': ['gini', 'entropy'],\n",
    "    'max_depth': [None, 2, 6, 10],\n",
    "    'min_samples_split': [5, 10],\n",
    "    'min_samples_leaf': [3, 6]\n",
    "}\n",
    "\n",
    "# evaluation procedure\n",
    "cv = RepeatedStratifiedKFold(n_splits=10, n_repeats=3, random_state=1)\n",
    "\n",
    "# define grid search\n",
    "rf_grid = GridSearchCV(estimator=RF, param_grid=rf_param_grid, cv=cv, n_jobs=-1, scoring='roc_auc')\n",
    "# execute the grid search\n",
    "rf_grid_result = rf_grid.fit(X_train, y_train)\n",
    "               \n",
    "# print results\n",
    "print(\"Best AUC score: %f using  %s\" % (rf_grid_result.best_score_, rf_grid_result.best_params_))\n",
    "\n",
    "# report all configurations\n",
    "means = rf_grid_result.cv_results_['mean_test_score']\n",
    "stds = rf_grid_result.cv_results_['std_test_score']\n",
    "params = rf_grid_result.cv_results_['params']\n",
    "for mean, stdev, param in zip(means, stds, params):\n",
    "    print('%f (%f) with: %r' % (mean, stdev, param))\n",
    "    \n",
    "exec_time()\n",
    "\n"
   ]
  },
  {
   "cell_type": "markdown",
   "metadata": {},
   "source": [
    "[<a href=\"#Module-5-Final-Project\">Jump back to Table of Contents</a>]  "
   ]
  },
  {
   "cell_type": "markdown",
   "metadata": {},
   "source": [
    "# RandomForestClassifier Tuned Model"
   ]
  },
  {
   "cell_type": "code",
   "execution_count": null,
   "metadata": {
    "scrolled": false
   },
   "outputs": [],
   "source": [
    "## ⏰ This cell may take a long time to run!\n",
    "#Run tuned model with Class weighting and Optimal Parameters: {'criterion': 'gini', 'max_depth': None, 'min_samples_leaf': 3, 'min_samples_split': 5, 'n_estimators': 30}\n",
    "start = time.time()\n",
    "\n",
    "X, y = load_data('final_data.csv')                                    # load data\n",
    "X_train, X_test, y_train, y_test  = split_train_test(X, y)            # split data\n",
    "\n",
    "# define model\n",
    "RFT = RandomForestClassifier(criterion='gini'                         # define/fit model\n",
    "                             ,n_jobs = -1\n",
    "                             ,min_samples_leaf = 3\n",
    "                             ,n_estimators= 30\n",
    "                             ,min_samples_split=5\n",
    "                             ,class_weight='balanced').fit(X_train, y_train)\n",
    "\n",
    "# # define evaluation procedure\n",
    "# cv = RepeatedStratifiedKFold(n_splits=10, n_repeats=3, random_state=1)\n",
    "\n",
    "# #Evaluate the model using roc_auc scoring\n",
    "# scores = cross_val_score(RFT, X_train, y_train, scoring='roc_auc', cv=cv, n_jobs=-1)\n",
    "# print_mean_rocauc_scores(scores)\n",
    "\n",
    "# predict probabilities\n",
    "RFT_probs = RFT.predict_proba(X_test)[:, 1]              # predict probabilities for the positive outcome only\n",
    "y_pred = RFT.predict(X_test)                             # predict\n",
    "\n",
    "fpr_RFT, tpr_RFT, thresholds = roc_curve(y_test, RFT_probs)              #calculate roc_auc score\n",
    "RFT_precision, RFT_recall, _ = precision_recall_curve(y_test, RFT_probs) #calculate pr_auc score\n",
    "\n",
    "#Summarize:\n",
    "print_scores(y_test, y_pred)\n",
    "plot_roc_curve(y_test, RFT_probs,  'RFT')\n",
    "plot_pr_curve(y_test, y_pred, RFT_probs, 'RFT') \n",
    "\n",
    "exec_time()\n",
    "\n"
   ]
  },
  {
   "cell_type": "markdown",
   "metadata": {},
   "source": [
    "**Tuning result:**  We see an improved RF AUC with some tuning of the model:  \n",
    "From ROC AUC 0.552  to ROC AUC 0.620 \n",
    "From PR  AUC  0.107 to PR  AUC 0.129  \n",
    "Like the previous models, we have a problem of high training score but low test score (over-fitting), our model is not generalizing properly. \n",
    "+ Apply Sub-sample the positive samples in order to have a 50/50 dataset.\n",
    "+ Use other algorithm that deals naturally with unbalanced datasets, like anomaly detection methods."
   ]
  },
  {
   "cell_type": "markdown",
   "metadata": {},
   "source": [
    "[<a href=\"#Module-5-Final-Project\">Jump back to Table of Contents</a>]  "
   ]
  },
  {
   "cell_type": "code",
   "execution_count": null,
   "metadata": {
    "scrolled": false
   },
   "outputs": [],
   "source": [
    "#Random Forest Feature Selection - Important Features \n",
    "feature_names = X_train.columns\n",
    "feature_imports = RFT.feature_importances_\n",
    "most_imp_features = pd.DataFrame([f for f in zip(feature_names,feature_imports)], columns=[\"Feature\", \"Importance\"])\n",
    "most_imp_features.sort_values(by=\"Importance\", inplace=True)\n",
    "plt.figure(figsize=(10,18))\n",
    "plt.barh(range(len(most_imp_features)), most_imp_features.Importance, align='center', alpha=0.8)\n",
    "plt.yticks(range(len(most_imp_features)), most_imp_features.Feature, fontsize=14)\n",
    "plt.xlabel('Importance')\n",
    "plt.title('Most important features - Random Forest')\n",
    "plt.show()"
   ]
  },
  {
   "cell_type": "markdown",
   "metadata": {},
   "source": [
    "[<a href=\"#Module-5-Final-Project\">Jump back to Table of Contents</a>]  "
   ]
  },
  {
   "cell_type": "markdown",
   "metadata": {},
   "source": [
    "# BaggingClassifier"
   ]
  },
  {
   "cell_type": "code",
   "execution_count": null,
   "metadata": {
    "scrolled": true
   },
   "outputs": [],
   "source": [
    "# Bagged Decision Trees for Classification\n",
    "start = time.time()\n",
    "\n",
    "X, y = load_data('final_data.csv')                                    # load data\n",
    "X_train, X_test, y_train, y_test  = split_train_test(X, y)            # split data\n",
    "\n",
    "cart = DecisionTreeClassifier()                                       # define/fit model\n",
    "num_trees = 100\n",
    "BG = BaggingClassifier(base_estimator=cart, n_estimators=num_trees\n",
    "                       , random_state=2).fit(X_train, y_train)   \n",
    "\n",
    "\n",
    "BG_probs= BG.predict_proba(X_test)[:, 1]                  # predict probabilities for the positive outcome only\n",
    "\n",
    "y_pred = BG.predict(X_test)                                           # predict \n",
    "fpr_BG, tpr_BG, thresholds = roc_curve(y_test, BG_probs)              #calculate roc_auc score\n",
    "BG_precision, BG_recall, _ = precision_recall_curve(y_test, BG_probs) #calculate pr_auc score\n",
    "\n",
    "#Summarize:\n",
    "print_scores(y_test, y_pred)\n",
    "plot_roc_curve(y_test, BG_probs,  'BG')\n",
    "plot_pr_curve(y_test, y_pred, BG_probs, 'BG') \n",
    "\n",
    "exec_time()\n"
   ]
  },
  {
   "cell_type": "markdown",
   "metadata": {},
   "source": [
    "[<a href=\"#Module-5-Final-Project\">Jump back to Table of Contents</a>]  "
   ]
  },
  {
   "cell_type": "markdown",
   "metadata": {},
   "source": [
    "# BalancedBaggingClassifier"
   ]
  },
  {
   "cell_type": "code",
   "execution_count": null,
   "metadata": {
    "scrolled": true
   },
   "outputs": [],
   "source": [
    "## ⏰ This cell may take a long time to run!\n",
    "# BalancedBaggingClassifier for Classification - random undersampling strategy on the majority class within a bootstrap sample in order to balance the two classes\n",
    "start = time.time()\n",
    "\n",
    "X, y = load_data('final_data.csv')                                        # load data\n",
    "X_train, X_test, y_train, y_test  = split_train_test(X, y)                # split data\n",
    "\n",
    "cart = DecisionTreeClassifier(criterion='entropy'                         # define/fit model      \n",
    "                              , max_depth= 5\n",
    "                              , min_samples_leaf= 2\n",
    "                              , min_samples_split= 2)\n",
    "num_trees = 100\n",
    "#BBG = BalancedBaggingClassifier(base_estimator=cart, n_estimators=num_trees, random_state=2).fit(X_train, y_train) \n",
    "\n",
    "BBG = Pipeline(steps=[('t', StandardScaler()),('m',BalancedBaggingClassifier(base_estimator=cart, n_estimators=num_trees, random_state=2).fit(X_train, y_train))])\n",
    "BBG.fit(X_train, y_train) \n",
    "cv = RepeatedStratifiedKFold(n_splits=10, n_repeats=3, random_state=1)\n",
    "scores = cross_val_score(BBG, X, y, scoring='roc_auc', cv=cv, n_jobs=-1)\n",
    "BBG_probs = BBG.predict_proba(X_test)[:, 1]               # predict probabilities for the positive outcome only\n",
    "\n",
    "y_pred = BBG.predict(X_test)                              # predict\n",
    "fpr_BBG, tpr_BBG, thresholds = roc_curve(y_test, BBG_probs)              #calculate roc_auc score\n",
    "BBG_precision, BBG_recall, _ = precision_recall_curve(y_test, BBG_probs) #calculate pr_auc score\n",
    "\n",
    "#Summarize:\n",
    "print_scores(y_test, y_pred)\n",
    "plot_roc_curve(y_test, BBG_probs,  'BBG')\n",
    "plot_pr_curve(y_test, y_pred, BBG_probs, 'BBG') \n",
    "\n",
    "exec_time()\n"
   ]
  },
  {
   "cell_type": "markdown",
   "metadata": {},
   "source": [
    "[<a href=\"#Module-5-Final-Project\">Jump back to Table of Contents</a>]  "
   ]
  },
  {
   "cell_type": "markdown",
   "metadata": {},
   "source": [
    "# Gradient Boosting\n",
    "Another way that we can improve the performance of algorithms on this problem is by using ensemble methods. In this section we will evaluate four different ensemble machine learning algorithms, two boosting and two bagging methods:\n",
    "􏰀 Boosting Methods: AdaBoost (AB) and Gradient Boosting (GBM). 􏰀 Bagging Methods: Random Forests (RF) and Extra Trees (ET).\n",
    "We will use the same test harness as before, 10-fold cross validation. No data standardization is used in this case because all four ensemble algorithms are based on decision trees that are less sensitive to data distributions.\n",
    "\n",
    "\n",
    "Finalize Model (use all training data and confirm using validation dataset).  We can see that we achieve an accuracy of nearly 86% on the held-out validation dataset. A score that matches closely to our expectations estimated above during the tuning of SVM\n"
   ]
  },
  {
   "cell_type": "markdown",
   "metadata": {},
   "source": [
    "[<a href=\"#Module-5-Final-Project\">Jump back to Table of Contents</a>]  "
   ]
  },
  {
   "cell_type": "markdown",
   "metadata": {},
   "source": [
    "# ADABoostClassifier\n"
   ]
  },
  {
   "cell_type": "code",
   "execution_count": null,
   "metadata": {
    "scrolled": true
   },
   "outputs": [],
   "source": [
    "start = time.time()\n",
    "\n",
    "X, y = load_data('final_data.csv')                                    # load data\n",
    "X_train, X_test, y_train, y_test  = split_train_test(X, y)            # split data\n",
    "\n",
    "AB = AdaBoostClassifier(n_estimators=50, learning_rate=1).fit(X_train, y_train)      # define/fit model\n",
    "\n",
    "# predict probabilities\n",
    "AB_probs = AB.predict_proba(X_test)[:, 1]              # predict probabilities for the positive outcome only\n",
    "\n",
    "y_pred = AB.predict(X_test)                                           # predict\n",
    "fpr_AB, tpr_AB, thresholds = roc_curve(y_test, AB_probs)              #calculate roc_auc score\n",
    "AB_precision, AB_recall, _ = precision_recall_curve(y_test, AB_probs) #calculate pr_auc score \n",
    "\n",
    "#Summarize:\n",
    "print_scores(y_test, y_pred)\n",
    "plot_roc_curve(y_test, AB_probs,  'AB')\n",
    "plot_pr_curve(y_test, y_pred, AB_probs, 'AB') \n",
    "\n",
    "exec_time()\n"
   ]
  },
  {
   "cell_type": "markdown",
   "metadata": {},
   "source": [
    "**Result** Train & Test has around the same score. No evidence of overfitting. Let us see if we can improve the auc further by tuning the model "
   ]
  },
  {
   "cell_type": "markdown",
   "metadata": {},
   "source": [
    "[<a href=\"#Module-5-Final-Project\">Jump back to Table of Contents</a>]  "
   ]
  },
  {
   "cell_type": "markdown",
   "metadata": {},
   "source": [
    "# ADABoostClassifier Tuned Model\n"
   ]
  },
  {
   "cell_type": "markdown",
   "metadata": {},
   "source": [
    "We can see the AdaBoost ensemble with a logistic regression weak model achieves a classification accuracy of about 91.5 percent on this test dataset.  Using Different Base Learners\n",
    "I have used SVC as a base estimator. You can use any ML learner as base estimator if it accepts sample weight such as Decision Tree, Support Vector Classifier."
   ]
  },
  {
   "cell_type": "markdown",
   "metadata": {},
   "source": [
    "The results show that, given the selected grid search ranges, the optimal parameters (those that provide the best cross-validation fit for the data) are 230 estimators with a learning rate of 0.05. The plot of the model of these parameters indeed shows that the fit looks might fine.  \n",
    "Pros\n",
    "AdaBoost is easy to implement. It iteratively corrects the mistakes of the weak classifier and improves accuracy by combining weak learners. You can use many base classifiers with AdaBoost. AdaBoost is not prone to overfitting. This can be found out via experiment results, but there is no concrete reason available.\n",
    "\n",
    "Cons\n",
    "AdaBoost is sensitive to noise data. It is highly affected by outliers because it tries to fit each point perfectly. AdaBoost is slower compared to XGBoost.  "
   ]
  },
  {
   "cell_type": "code",
   "execution_count": null,
   "metadata": {
    "scrolled": true
   },
   "outputs": [],
   "source": [
    "start = time.time()\n",
    "\n",
    "X, y = load_data('final_data.csv')                                     # load data\n",
    "X_train, X_test, y_train, y_test  = split_train_test(X, y)             # split data\n",
    "\n",
    "ABT = AdaBoostClassifier(base_estimator=DecisionTreeClassifier(max_depth=1)     # define/fit model\n",
    "                         , n_estimators=40, learning_rate=1.0).fit(X_train, y_train) \n",
    "\n",
    "ABT_probs = ABT.predict_proba(X_test)[:, 1]              # predict probabilities for the positive outcome only\n",
    "\n",
    "y_pred = ABT.predict(X_test)                                            # predict\n",
    "fpr_ABT, tpr_ABT, thresholds = roc_curve(y_test, ABT_probs)              #calculate roc_auc score\n",
    "ABT_precision, ABT_recall, _ = precision_recall_curve(y_test, ABT_probs) #calculate roc_auc score\n",
    "\n",
    "#Summarize:\n",
    "print_scores(y_test, y_pred)\n",
    "plot_roc_curve(y_test, ABT_probs,  'ABT')\n",
    "plot_pr_curve(y_test, y_pred, ABT_probs, 'ABT') \n",
    "\n",
    "exec_time()\n"
   ]
  },
  {
   "cell_type": "markdown",
   "metadata": {},
   "source": [
    "[<a href=\"#Module-5-Final-Project\">Jump back to Table of Contents</a>]  "
   ]
  },
  {
   "cell_type": "markdown",
   "metadata": {},
   "source": [
    "**Tuning Result:**  \n",
    "AB ROC AUC 0.623\n",
    "AB PR AUC: 0.132\n",
    "Tuned ADABoost Classifier:  \n",
    "ABT ROC AUC 0.624\n",
    "ABT PR AUC: 0.134"
   ]
  },
  {
   "cell_type": "markdown",
   "metadata": {},
   "source": [
    "[<a href=\"#Module-5-Final-Project\">Jump back to Table of Contents</a>]  "
   ]
  },
  {
   "cell_type": "markdown",
   "metadata": {},
   "source": [
    "# GradientBoostingClassifier"
   ]
  },
  {
   "cell_type": "code",
   "execution_count": null,
   "metadata": {
    "scrolled": true
   },
   "outputs": [],
   "source": [
    "\n",
    "start = time.time()\n",
    "\n",
    "X, y = load_data('final_data.csv')                                    # load data\n",
    "X_train, X_test, y_train, y_test  = split_train_test(X, y)            # split data\n",
    "\n",
    "GB = GradientBoostingClassifier().fit(X_train, y_train)               # define/fit model\n",
    "\n",
    "GB_probs= GB.predict_proba(X_test)[:, 1]              # predict probabilities for the positive outcome only\n",
    "\n",
    "y_pred = GB.predict(X_test)                                           # predict\n",
    "fpr_GB, tpr_GB, thresholds = roc_curve(y_test, GB_probs)              #calculate roc_auc score\n",
    "GB_precision, GB_recall, _ = precision_recall_curve(y_test, GB_probs) #calculate roc_auc score \n",
    "\n",
    "#Summarize:\n",
    "print_scores(y_test, y_pred)\n",
    "plot_roc_curve(y_test, GB_probs,  'GB')\n",
    "plot_pr_curve(y_test, y_pred, GB_probs, 'GB') \n",
    "\n",
    "exec_time()\n",
    "\n"
   ]
  },
  {
   "cell_type": "code",
   "execution_count": null,
   "metadata": {
    "scrolled": false
   },
   "outputs": [],
   "source": [
    "# def display_acc_and_f1_score(true, preds, model_name):\n",
    "#     acc = accuracy_score(true, preds)\n",
    "#     f1 = f1_score(true, preds)\n",
    "#     print(\"Model: {}\".format(model_name))\n",
    "#     print(\"Accuracy: {}\".format(acc))\n",
    "#     print(\"F1-Score: {}\".format(f1))\n",
    "    \n",
    "# print(\"Training Metrics\")\n",
    "# display_acc_and_f1_score(y_train, AB_train_preds, model_name='AdaBoost')\n",
    "# print(\"\")\n",
    "# display_acc_and_f1_score(y_train, GB_train_preds, model_name='Gradient Boosted Trees')\n",
    "# print(\"\")\n",
    "# print(\"Testing Metrics\")\n",
    "# display_acc_and_f1_score(y_test, AB_test_preds, model_name='AdaBoost')\n",
    "# print(\"\")\n",
    "# display_acc_and_f1_score(y_test, GB_test_preds, model_name='Gradient Boosted Trees')"
   ]
  },
  {
   "cell_type": "markdown",
   "metadata": {},
   "source": [
    "[<a href=\"#Module-5-Final-Project\">Jump back to Table of Contents</a>]  "
   ]
  },
  {
   "cell_type": "markdown",
   "metadata": {},
   "source": [
    "# XGBoostClassifier"
   ]
  },
  {
   "cell_type": "code",
   "execution_count": null,
   "metadata": {
    "scrolled": true
   },
   "outputs": [],
   "source": [
    "start = time.time()\n",
    "\n",
    "X, y = load_data('final_data.csv')                                      # load data\n",
    "X_train, X_test, y_train, y_test  = split_train_test(X, y)              # split data\n",
    "\n",
    "XGB = XGBClassifier().fit(X_train, y_train)                              # define/fit model\n",
    "\n",
    "XGB_probs = XGB.predict_proba(X_test)[:, 1]              # predict probabilities for the positive outcome only\n",
    "y_pred = XGB.predict(X_test)                                             # predict\n",
    "\n",
    "fpr_XGB, tpr_XGB, thresholds = roc_curve(y_test, XGB_probs)              # calculate roc_auc score\n",
    "XGB_precision, XGB_recall, _ = precision_recall_curve(y_test, XGB_probs) # calculate pr_auc score \n",
    "\n",
    "#Summary report:\n",
    "print_scores(y_test, y_pred)\n",
    "plot_roc_curve(y_test, XGB_probs,  'XGB')\n",
    "plot_pr_curve(y_test, y_pred, XGB_probs, 'XGB')   \n",
    "    \n",
    "exec_time()\n"
   ]
  },
  {
   "cell_type": "markdown",
   "metadata": {},
   "source": [
    "[<a href=\"#Module-5-Final-Project\">Jump back to Table of Contents</a>]  \n"
   ]
  },
  {
   "cell_type": "markdown",
   "metadata": {},
   "source": [
    "## Tuning XGBoost"
   ]
  },
  {
   "cell_type": "code",
   "execution_count": null,
   "metadata": {
    "scrolled": false
   },
   "outputs": [],
   "source": [
    "# ⏰ This cell may take a long time to run!\n",
    "start = time.time()\n",
    "\n",
    "param_grid = {\n",
    "    'learning_rate': [0.1, 0.2],\n",
    "    'max_depth': [6],\n",
    "    'min_child_weight': [1, 2],\n",
    "    'subsample': [0.5, 0.7],\n",
    "    'n_estimators': [100],\n",
    "}\n",
    "\n",
    "grid_XGBt = GridSearchCV(XGB, param_grid, scoring='roc_auc', cv=cv, n_jobs=1)\n",
    "grid_XGBt.fit(X_train, y_train)\n",
    "\n",
    "best_XBG_params = grid_XGBt.best_params_\n",
    "\n",
    "print('Grid Search found the following optimal parameters: ')\n",
    "for param_name in sorted(best_XBG_params.keys()):\n",
    "    print('%s: %r' % (param_name, best_XBG_params[param_name]))\n",
    "\n",
    "XGBt_train_preds = grid_XGBt.predict(X_train)\n",
    "XGBt_test_preds = grid_XGBt.predict(X_test)\n",
    "training_accuracy = accuracy_score(y_train, XGBt_train_preds)\n",
    "test_accuracy = accuracy_score(y_test, XGBt_test_preds)\n",
    "\n",
    "print('')\n",
    "print('Training Accuracy: {:.4}%'.format(training_accuracy * 100))\n",
    "print('Validation accuracy: {:.4}%'.format(test_accuracy * 100))\n",
    "print('')\n",
    "print_scores(y_test, XGBt_test_preds)\n",
    "fpr_XGBt, tpr_XGBt, thresholds = roc_curve(y_test, XGBt_test_preds)\n",
    "\n",
    "exec_time()\n",
    "\n"
   ]
  },
  {
   "cell_type": "markdown",
   "metadata": {},
   "source": [
    "[<a href=\"#Module-5-Final-Project\">Jump back to Table of Contents</a>]  \n"
   ]
  },
  {
   "cell_type": "markdown",
   "metadata": {},
   "source": [
    "## Tuned XGBoost"
   ]
  },
  {
   "cell_type": "code",
   "execution_count": null,
   "metadata": {
    "scrolled": true
   },
   "outputs": [],
   "source": [
    "#Run Tuned XGBOsst model with grid search best parameters\n",
    "start = time.time()\n",
    "\n",
    "X, y = load_data('final_data.csv')                                           # load data\n",
    "X_train, X_test, y_train, y_test  = split_train_test(X, y)                   # split data\n",
    "\n",
    "XGBT = XGBClassifier(learning_rate= 0.1, max_depth= 6, min_child_weight= 2   # define/fit model\n",
    "                     ,n_estimators= 100, subsample= 0.7).fit(X_train, y_train)\n",
    "\n",
    "XGBT_probs = XGBT.predict_proba(X_test)[:, 1]              # predict probabilities for the positive outcome only\n",
    "y_pred = XGBT.predict(X_test)                                               # predict\n",
    "\n",
    "fpr_XGBT, tpr_XGBT, thresholds = roc_curve(y_test, XGBT_probs)              # calculate roc_auc score\n",
    "XGBT_precision, XGBT_recall, _ = precision_recall_curve(y_test, XGBT_probs) # calculate pr_auc score\n",
    "\n",
    "#Summary report:\n",
    "print_scores(y_test, y_pred)\n",
    "plot_roc_curve(y_test, XGBT_probs,  'XGBT')\n",
    "plot_pr_curve(y_test, y_pred, XGBT_probs, 'XGBT') \n",
    "\n",
    "exec_time()\n"
   ]
  },
  {
   "cell_type": "markdown",
   "metadata": {},
   "source": [
    "[<a href=\"#Module-5-Final-Project\">Jump back to Table of Contents</a>]  "
   ]
  },
  {
   "cell_type": "markdown",
   "metadata": {},
   "source": [
    "# SVM Classifier  "
   ]
  },
  {
   "cell_type": "code",
   "execution_count": null,
   "metadata": {},
   "outputs": [],
   "source": [
    "## ⏰ This cell may take a VERY long time to run!\n",
    "\n",
    "start = time.time()\n",
    "\n",
    "X, y = load_data('final_data.csv')                                       # load data\n",
    "X_train, X_test, y_train, y_test  = split_train_test(X, y)               # split data\n",
    "\n",
    "SVC_cl = SVC(gamma='scale' ,probability =True                            # define/fit model\n",
    "                           ,class_weight= {0: 1, 1: 10}).fit(X_train, y_train)\n",
    "\n",
    "SVC_probs= SVC_cl.predict_proba(X_test)[:, 1]              # predict probabilities for the positive outcome only\n",
    "y_pred = SVC_cl.predict(X_test)                            # predict\n",
    "\n",
    "fpr_SVC, tpr_SVC, thresholds = roc_curve(y_test, SVC_probs)              # calculate roc auc\n",
    "SVC_precision, SVC_recall, _ = precision_recall_curve(y_test, SVC_probs) # calculate pr auc\n",
    "\n",
    "#Summary report:\n",
    "print_scores(y_test, y_pred)\n",
    "plot_roc_curve(y_test, SVC_probs,  'SVC_cl')\n",
    "plot_pr_curve(y_test, y_pred, SVC_probs, 'SVC_cl') \n",
    "\n",
    "exec_time()"
   ]
  },
  {
   "cell_type": "markdown",
   "metadata": {},
   "source": [
    "# Tuning SVC"
   ]
  },
  {
   "cell_type": "code",
   "execution_count": null,
   "metadata": {
    "scrolled": false
   },
   "outputs": [],
   "source": [
    "# ⏰ This cell may take a long time to run!\n",
    "start = time.time()\n",
    "X, y = load_data('final_data.csv')  \n",
    "# grid search class weights with svm for imbalance classification\n",
    "\n",
    "# define model\n",
    "model = SVC(gamma='scale')\n",
    "# define grid\n",
    "balance = [{0:100,1:1}, {0:10,1:1}, {0:1,1:1}, {0:1,1:10}, {0:1,1:100}] \n",
    "param_grid = dict(class_weight=balance)\n",
    "# define evaluation procedure\n",
    "cv = RepeatedStratifiedKFold(n_splits=10, n_repeats=3, random_state=1)\n",
    "# define grid search for SVM\n",
    "grid = GridSearchCV(estimator=model, param_grid=param_grid, n_jobs=-1, cv=cv, scoring='roc_auc')\n",
    "# execute the grid search\n",
    "grid_result = grid.fit(X, y)\n",
    "# report the best configuration\n",
    "print('Best: %f using %s' % (grid_result.best_score_, grid_result.best_params_)) # report all configurations\n",
    "means = grid_result.cv_results_['mean_test_score']\n",
    "stds = grid_result.cv_results_['std_test_score']\n",
    "params = grid_result.cv_results_['params']\n",
    "for mean, stdev, param in zip(means, stds, params):\n",
    "    print('%f (%f) with: %r' % (mean, stdev, param))\n",
    "\n",
    "exec_time()\n",
    "\n",
    "\"\"\"\n",
    "RESULT:\n",
    "Best: 0.618217 using {'class_weight': {0: 1, 1: 10}}\n",
    "Execution time 03:12:28\n",
    "\"\"\"\n",
    "\n"
   ]
  },
  {
   "cell_type": "markdown",
   "metadata": {},
   "source": [
    "[<a href=\"#Module-5-Final-Project\">Jump back to Table of Contents</a>]  "
   ]
  },
  {
   "cell_type": "markdown",
   "metadata": {},
   "source": [
    "# Compare ROC Curves   "
   ]
  },
  {
   "cell_type": "code",
   "execution_count": null,
   "metadata": {
    "scrolled": false
   },
   "outputs": [],
   "source": [
    "start = time.time()\n",
    "\n",
    "#compare the ROC curve between different models\n",
    "plt.figure(figsize=(10,8))\n",
    "sns.set_style(\"darkgrid\", {\"axes.facecolor\": \".9\"})\n",
    "\n",
    "print('AUC Logistic regression: {}'.format(auc(fpr_LR, tpr_LR,)))\n",
    "print('AUC Tuned Logistic regression: {}'.format(auc(fpr_LRt, tpr_LRt,))) \n",
    "# print('AUC KNearestNeighbors: {}'.format(auc(fpr_KNN, tpr_KNN,)))\n",
    "# print('AUC KNearestNeighbors: {}'.format(auc(fpr_KNT, tpr_KNT,)))\n",
    "print('AUC Decision Tree: {}'.format(auc(fpr_DT, tpr_DT,)))\n",
    "print('AUC Tuned Decision Tree: {}'.format(auc(fpr_DTT, tpr_DTT,)))\n",
    "print('AUC Randomforest: {}'.format(auc(fpr_RF, tpr_RF,)))\n",
    "print('AUC Tuned Randomforest: {}'.format(auc(fpr_RFT, tpr_RFT,)))\n",
    "print('AUC Bagged Tree Classifier: {}'.format(auc(fpr_BG, tpr_BG,)))\n",
    "print('AUC Balanced Bagged Tree Classifier: {}'.format(auc(fpr_BBG, tpr_BBG,)))\n",
    "print('AUC ADABoost: {}'.format(auc(fpr_AB, tpr_AB,)))\n",
    "print('AUC Tuned ADABoost: {}'.format(auc(fpr_ABT, tpr_ABT,)))\n",
    "print('AUC Gradient Boosting: {}'.format(auc(fpr_GB, tpr_GB,)))\n",
    "print('AUC XGBoost: {}'.format(auc(fpr_XGB, tpr_XGB,)))\n",
    "print('AUC Tuned XGBoost: {}'.format(auc(fpr_XGBT, tpr_XGBT,)))\n",
    "print('AUC SVC: {}'.format(auc(fpr_SVC, tpr_SVC,)))\n",
    "\n",
    "\n",
    "lw = 2\n",
    "plt.plot(fpr_LR, tpr_LR, label='Logistic regression')\n",
    "plt.plot(fpr_LRt, tpr_LRt, label='Tuned Logistic regression')\n",
    "# plt.plot(fpr_KNN, tpr_KNN, label='KNearestNeighbors')\n",
    "# plt.plot(fpr_KNT, tpr_KNT, label='KNearestNeighbors')\n",
    "plt.plot(fpr_DT, tpr_DT, label='Decision Tree')\n",
    "plt.plot(fpr_DTT, tpr_DTT,label='Tuned Decision Tree')\n",
    "plt.plot(fpr_RF, tpr_RF, label='Randomforest Classifier')\n",
    "plt.plot(fpr_RFT, tpr_RFT, label='Tuned Randomforest Classifier')\n",
    "plt.plot(fpr_BG, tpr_BG, label='Bagged Decision Tree Classifier')\n",
    "plt.plot(fpr_BBG, tpr_BBG, label='Balanced Bagged Tree Classifier')\n",
    "plt.plot(fpr_AB, tpr_AB, label='ADABoost Classifier')\n",
    "plt.plot(fpr_ABT, tpr_ABT, label='Tuned ADABoost Classifier')\n",
    "plt.plot(fpr_GB, tpr_GB, label='Gradient Boosting Classifier')\n",
    "plt.plot(fpr_XGB, tpr_XGB, label='XGBoost Classifier',linestyle='--',color='navy')\n",
    "plt.plot(fpr_XGBT, tpr_XGBT, label='Tuned XGBoost Classifier')\n",
    "plt.plot(fpr_SVC, tpr_SVC, label='SVC Classifier')\n",
    "\n",
    "#plt.plot(fpr, tpr, color='darkorange',lw=lw, label='ROC curve')\n",
    "plt.plot([0, 1], [0, 1], color='red', lw=lw, label='random', alpha=.8)\n",
    "plt.xlim([0,1])\n",
    "plt.ylim([0,1])\n",
    "plt.xticks(np.arange(0,1.1,0.1))\n",
    "plt.yticks(np.arange(0,1.1,0.1))\n",
    "\n",
    "plt.xlabel('False Positive Rate')\n",
    "plt.ylabel('True Positive Rate')\n",
    "plt.title('Receiver operating characteristic (ROC) Curve')\n",
    "plt.legend(loc=\"lower right\")\n",
    "plt.show();\n",
    "\n",
    "execution_time = time.time() - start\n",
    "print('Execution time', time.strftime(\"%H:%M:%S\", time.gmtime(execution_time)))\n"
   ]
  },
  {
   "cell_type": "markdown",
   "metadata": {},
   "source": [
    "[<a href=\"#Module-5-Final-Project\">Jump back to Table of Contents</a>]  "
   ]
  },
  {
   "cell_type": "markdown",
   "metadata": {},
   "source": [
    "# Finalize Save Model for Later Use  "
   ]
  },
  {
   "cell_type": "markdown",
   "metadata": {},
   "source": [
    "### Now that we have selected our best model, let us run and save the model for later use.\n"
   ]
  },
  {
   "cell_type": "code",
   "execution_count": 17,
   "metadata": {
    "scrolled": true
   },
   "outputs": [
    {
     "name": "stdout",
     "output_type": "stream",
     "text": [
      "Execution time 00:00:08\n"
     ]
    }
   ],
   "source": [
    "\n",
    "start = time.time()\n",
    "\n",
    "X, y = load_data('final_data.csv')                                      # load data\n",
    "X_train, X_test, y_train, y_test  = split_train_test(X, y)              # split data\n",
    "\n",
    "XGB = XGBClassifier().fit(X_train, y_train)                              # define/fit model\n",
    "\n",
    "XGB_probs = XGB.predict_proba(X_test)[:, 1]              # predict probabilities for the positive outcome only\n",
    "y_pred = XGB.predict(X_test)                                             # predict\n",
    "\n",
    "\n",
    "#  Once our model is validated and we're ok with the test predictions let's go ahead and save it.\n",
    "\n",
    "with open('XBGmodel_pickle', 'wb') as f:\n",
    "    pickle.dump(model,f)   \n",
    "    \n",
    "# I've got my predictions now\n",
    "\n",
    "\n",
    "#Let's examine the accuracy of the predictions - the predictions compared to the true values\n",
    "\n",
    "y_hats = XGB.predict(X_test)     \n",
    "\n",
    "y_test['preds'] = y_hats\n",
    "\n",
    "df_predictions = pd.merge(df,y_test[['preds']],how = 'left',left_index = True, right_index = True)\n",
    "df_predictions[df_predictions['readmitted_x']==1]\n",
    "    \n",
    "exec_time()\n",
    "\n"
   ]
  },
  {
   "cell_type": "code",
   "execution_count": 18,
   "metadata": {},
   "outputs": [
    {
     "data": {
      "text/html": [
       "<div>\n",
       "<style scoped>\n",
       "    .dataframe tbody tr th:only-of-type {\n",
       "        vertical-align: middle;\n",
       "    }\n",
       "\n",
       "    .dataframe tbody tr th {\n",
       "        vertical-align: top;\n",
       "    }\n",
       "\n",
       "    .dataframe thead th {\n",
       "        text-align: right;\n",
       "    }\n",
       "</style>\n",
       "<table border=\"1\" class=\"dataframe\">\n",
       "  <thead>\n",
       "    <tr style=\"text-align: right;\">\n",
       "      <th></th>\n",
       "      <th>time_in_hospital</th>\n",
       "      <th>num_lab_procedures</th>\n",
       "      <th>num_procedures</th>\n",
       "      <th>num_medications</th>\n",
       "      <th>number_diagnoses</th>\n",
       "      <th>readmitted_x</th>\n",
       "      <th>number_changes</th>\n",
       "      <th>number_meds</th>\n",
       "      <th>age</th>\n",
       "      <th>number_inpatient_log</th>\n",
       "      <th>...</th>\n",
       "      <th>ICDCat1_2</th>\n",
       "      <th>ICDCat1_3</th>\n",
       "      <th>ICDCat1_4</th>\n",
       "      <th>ICDCat1_5</th>\n",
       "      <th>ICDCat1_6</th>\n",
       "      <th>ICDCat1_7</th>\n",
       "      <th>ICDCat1_8</th>\n",
       "      <th>diabetesMed_1</th>\n",
       "      <th>change_1</th>\n",
       "      <th>readmitted_y</th>\n",
       "    </tr>\n",
       "  </thead>\n",
       "  <tbody>\n",
       "    <tr>\n",
       "      <th>9</th>\n",
       "      <td>7</td>\n",
       "      <td>62</td>\n",
       "      <td>0</td>\n",
       "      <td>11</td>\n",
       "      <td>7</td>\n",
       "      <td>1</td>\n",
       "      <td>1</td>\n",
       "      <td>2</td>\n",
       "      <td>65</td>\n",
       "      <td>0.0</td>\n",
       "      <td>...</td>\n",
       "      <td>0</td>\n",
       "      <td>0</td>\n",
       "      <td>0</td>\n",
       "      <td>0</td>\n",
       "      <td>0</td>\n",
       "      <td>0</td>\n",
       "      <td>1</td>\n",
       "      <td>1</td>\n",
       "      <td>1</td>\n",
       "      <td>NaN</td>\n",
       "    </tr>\n",
       "    <tr>\n",
       "      <th>13</th>\n",
       "      <td>4</td>\n",
       "      <td>45</td>\n",
       "      <td>4</td>\n",
       "      <td>17</td>\n",
       "      <td>8</td>\n",
       "      <td>1</td>\n",
       "      <td>0</td>\n",
       "      <td>2</td>\n",
       "      <td>55</td>\n",
       "      <td>0.0</td>\n",
       "      <td>...</td>\n",
       "      <td>0</td>\n",
       "      <td>0</td>\n",
       "      <td>0</td>\n",
       "      <td>0</td>\n",
       "      <td>0</td>\n",
       "      <td>0</td>\n",
       "      <td>0</td>\n",
       "      <td>1</td>\n",
       "      <td>1</td>\n",
       "      <td>NaN</td>\n",
       "    </tr>\n",
       "    <tr>\n",
       "      <th>44</th>\n",
       "      <td>4</td>\n",
       "      <td>40</td>\n",
       "      <td>1</td>\n",
       "      <td>14</td>\n",
       "      <td>9</td>\n",
       "      <td>1</td>\n",
       "      <td>0</td>\n",
       "      <td>0</td>\n",
       "      <td>55</td>\n",
       "      <td>0.0</td>\n",
       "      <td>...</td>\n",
       "      <td>0</td>\n",
       "      <td>0</td>\n",
       "      <td>0</td>\n",
       "      <td>0</td>\n",
       "      <td>0</td>\n",
       "      <td>0</td>\n",
       "      <td>1</td>\n",
       "      <td>0</td>\n",
       "      <td>0</td>\n",
       "      <td>NaN</td>\n",
       "    </tr>\n",
       "    <tr>\n",
       "      <th>60</th>\n",
       "      <td>2</td>\n",
       "      <td>32</td>\n",
       "      <td>3</td>\n",
       "      <td>11</td>\n",
       "      <td>9</td>\n",
       "      <td>1</td>\n",
       "      <td>0</td>\n",
       "      <td>1</td>\n",
       "      <td>55</td>\n",
       "      <td>0.0</td>\n",
       "      <td>...</td>\n",
       "      <td>0</td>\n",
       "      <td>0</td>\n",
       "      <td>0</td>\n",
       "      <td>0</td>\n",
       "      <td>0</td>\n",
       "      <td>0</td>\n",
       "      <td>0</td>\n",
       "      <td>1</td>\n",
       "      <td>0</td>\n",
       "      <td>NaN</td>\n",
       "    </tr>\n",
       "    <tr>\n",
       "      <th>62</th>\n",
       "      <td>7</td>\n",
       "      <td>75</td>\n",
       "      <td>2</td>\n",
       "      <td>22</td>\n",
       "      <td>7</td>\n",
       "      <td>1</td>\n",
       "      <td>0</td>\n",
       "      <td>0</td>\n",
       "      <td>75</td>\n",
       "      <td>0.0</td>\n",
       "      <td>...</td>\n",
       "      <td>0</td>\n",
       "      <td>0</td>\n",
       "      <td>0</td>\n",
       "      <td>0</td>\n",
       "      <td>0</td>\n",
       "      <td>0</td>\n",
       "      <td>0</td>\n",
       "      <td>0</td>\n",
       "      <td>0</td>\n",
       "      <td>NaN</td>\n",
       "    </tr>\n",
       "    <tr>\n",
       "      <th>...</th>\n",
       "      <td>...</td>\n",
       "      <td>...</td>\n",
       "      <td>...</td>\n",
       "      <td>...</td>\n",
       "      <td>...</td>\n",
       "      <td>...</td>\n",
       "      <td>...</td>\n",
       "      <td>...</td>\n",
       "      <td>...</td>\n",
       "      <td>...</td>\n",
       "      <td>...</td>\n",
       "      <td>...</td>\n",
       "      <td>...</td>\n",
       "      <td>...</td>\n",
       "      <td>...</td>\n",
       "      <td>...</td>\n",
       "      <td>...</td>\n",
       "      <td>...</td>\n",
       "      <td>...</td>\n",
       "      <td>...</td>\n",
       "      <td>...</td>\n",
       "    </tr>\n",
       "    <tr>\n",
       "      <th>60328</th>\n",
       "      <td>5</td>\n",
       "      <td>63</td>\n",
       "      <td>0</td>\n",
       "      <td>9</td>\n",
       "      <td>9</td>\n",
       "      <td>1</td>\n",
       "      <td>0</td>\n",
       "      <td>2</td>\n",
       "      <td>85</td>\n",
       "      <td>0.0</td>\n",
       "      <td>...</td>\n",
       "      <td>0</td>\n",
       "      <td>0</td>\n",
       "      <td>0</td>\n",
       "      <td>0</td>\n",
       "      <td>0</td>\n",
       "      <td>0</td>\n",
       "      <td>0</td>\n",
       "      <td>1</td>\n",
       "      <td>1</td>\n",
       "      <td>NaN</td>\n",
       "    </tr>\n",
       "    <tr>\n",
       "      <th>60331</th>\n",
       "      <td>5</td>\n",
       "      <td>52</td>\n",
       "      <td>1</td>\n",
       "      <td>24</td>\n",
       "      <td>9</td>\n",
       "      <td>1</td>\n",
       "      <td>0</td>\n",
       "      <td>2</td>\n",
       "      <td>75</td>\n",
       "      <td>0.0</td>\n",
       "      <td>...</td>\n",
       "      <td>0</td>\n",
       "      <td>0</td>\n",
       "      <td>0</td>\n",
       "      <td>0</td>\n",
       "      <td>0</td>\n",
       "      <td>0</td>\n",
       "      <td>0</td>\n",
       "      <td>1</td>\n",
       "      <td>1</td>\n",
       "      <td>NaN</td>\n",
       "    </tr>\n",
       "    <tr>\n",
       "      <th>60347</th>\n",
       "      <td>4</td>\n",
       "      <td>20</td>\n",
       "      <td>0</td>\n",
       "      <td>19</td>\n",
       "      <td>9</td>\n",
       "      <td>1</td>\n",
       "      <td>0</td>\n",
       "      <td>2</td>\n",
       "      <td>75</td>\n",
       "      <td>0.0</td>\n",
       "      <td>...</td>\n",
       "      <td>0</td>\n",
       "      <td>0</td>\n",
       "      <td>0</td>\n",
       "      <td>0</td>\n",
       "      <td>0</td>\n",
       "      <td>0</td>\n",
       "      <td>0</td>\n",
       "      <td>1</td>\n",
       "      <td>1</td>\n",
       "      <td>NaN</td>\n",
       "    </tr>\n",
       "    <tr>\n",
       "      <th>60494</th>\n",
       "      <td>4</td>\n",
       "      <td>37</td>\n",
       "      <td>0</td>\n",
       "      <td>7</td>\n",
       "      <td>5</td>\n",
       "      <td>1</td>\n",
       "      <td>1</td>\n",
       "      <td>1</td>\n",
       "      <td>75</td>\n",
       "      <td>0.0</td>\n",
       "      <td>...</td>\n",
       "      <td>0</td>\n",
       "      <td>0</td>\n",
       "      <td>0</td>\n",
       "      <td>0</td>\n",
       "      <td>0</td>\n",
       "      <td>0</td>\n",
       "      <td>0</td>\n",
       "      <td>1</td>\n",
       "      <td>1</td>\n",
       "      <td>NaN</td>\n",
       "    </tr>\n",
       "    <tr>\n",
       "      <th>60523</th>\n",
       "      <td>4</td>\n",
       "      <td>41</td>\n",
       "      <td>0</td>\n",
       "      <td>13</td>\n",
       "      <td>6</td>\n",
       "      <td>1</td>\n",
       "      <td>0</td>\n",
       "      <td>2</td>\n",
       "      <td>75</td>\n",
       "      <td>0.0</td>\n",
       "      <td>...</td>\n",
       "      <td>1</td>\n",
       "      <td>0</td>\n",
       "      <td>0</td>\n",
       "      <td>0</td>\n",
       "      <td>0</td>\n",
       "      <td>0</td>\n",
       "      <td>0</td>\n",
       "      <td>1</td>\n",
       "      <td>1</td>\n",
       "      <td>NaN</td>\n",
       "    </tr>\n",
       "  </tbody>\n",
       "</table>\n",
       "<p>5158 rows × 47 columns</p>\n",
       "</div>"
      ],
      "text/plain": [
       "       time_in_hospital  num_lab_procedures  num_procedures  num_medications  \\\n",
       "9                     7                  62               0               11   \n",
       "13                    4                  45               4               17   \n",
       "44                    4                  40               1               14   \n",
       "60                    2                  32               3               11   \n",
       "62                    7                  75               2               22   \n",
       "...                 ...                 ...             ...              ...   \n",
       "60328                 5                  63               0                9   \n",
       "60331                 5                  52               1               24   \n",
       "60347                 4                  20               0               19   \n",
       "60494                 4                  37               0                7   \n",
       "60523                 4                  41               0               13   \n",
       "\n",
       "       number_diagnoses  readmitted_x  number_changes  number_meds  age  \\\n",
       "9                     7             1               1            2   65   \n",
       "13                    8             1               0            2   55   \n",
       "44                    9             1               0            0   55   \n",
       "60                    9             1               0            1   55   \n",
       "62                    7             1               0            0   75   \n",
       "...                 ...           ...             ...          ...  ...   \n",
       "60328                 9             1               0            2   85   \n",
       "60331                 9             1               0            2   75   \n",
       "60347                 9             1               0            2   75   \n",
       "60494                 5             1               1            1   75   \n",
       "60523                 6             1               0            2   75   \n",
       "\n",
       "       number_inpatient_log  ...  ICDCat1_2  ICDCat1_3  ICDCat1_4  ICDCat1_5  \\\n",
       "9                       0.0  ...          0          0          0          0   \n",
       "13                      0.0  ...          0          0          0          0   \n",
       "44                      0.0  ...          0          0          0          0   \n",
       "60                      0.0  ...          0          0          0          0   \n",
       "62                      0.0  ...          0          0          0          0   \n",
       "...                     ...  ...        ...        ...        ...        ...   \n",
       "60328                   0.0  ...          0          0          0          0   \n",
       "60331                   0.0  ...          0          0          0          0   \n",
       "60347                   0.0  ...          0          0          0          0   \n",
       "60494                   0.0  ...          0          0          0          0   \n",
       "60523                   0.0  ...          1          0          0          0   \n",
       "\n",
       "       ICDCat1_6  ICDCat1_7  ICDCat1_8  diabetesMed_1  change_1  readmitted_y  \n",
       "9              0          0          1              1         1           NaN  \n",
       "13             0          0          0              1         1           NaN  \n",
       "44             0          0          1              0         0           NaN  \n",
       "60             0          0          0              1         0           NaN  \n",
       "62             0          0          0              0         0           NaN  \n",
       "...          ...        ...        ...            ...       ...           ...  \n",
       "60328          0          0          0              1         1           NaN  \n",
       "60331          0          0          0              1         1           NaN  \n",
       "60347          0          0          0              1         1           NaN  \n",
       "60494          0          0          0              1         1           NaN  \n",
       "60523          0          0          0              1         1           NaN  \n",
       "\n",
       "[5158 rows x 47 columns]"
      ]
     },
     "execution_count": 18,
     "metadata": {},
     "output_type": "execute_result"
    }
   ],
   "source": [
    "df_predictions[df_predictions['readmitted_x']==1]"
   ]
  },
  {
   "cell_type": "code",
   "execution_count": null,
   "metadata": {},
   "outputs": [],
   "source": [
    "#To open the model for later use do\n",
    "with open('XBGmodel_pickle', 'rb') as f:\n",
    "    xgb_mp= pickle.load(f)"
   ]
  },
  {
   "cell_type": "markdown",
   "metadata": {},
   "source": [
    "[<a href=\"#Module-5-Final-Project\">Jump back to Table of Contents</a>]  "
   ]
  },
  {
   "cell_type": "markdown",
   "metadata": {},
   "source": [
    "# iNterpreting the Data  "
   ]
  },
  {
   "cell_type": "markdown",
   "metadata": {},
   "source": [
    "1. From the above we can see that the accuracy levels of XGBoost Classifier after tuning and GradientBoost Classifier is among the best, about 63%.\n",
    "2. The accuracy of all the models are similar and ranges between 62-64%, with the exception of KNN which is has the worst performance in distinguishing between patients with readmissions and no readmissions.  Further, applying more pre-processing techniques might help. The dataset needs more data cleaning and data fitting to achieve a higher degree of accuracy.\n",
    "3. Looking at the false positives and the recall value which is approx 60% in Random forest, it gives us better results than the rest.\n",
    "4. The above visual helps us in seeing the accuracy and the ROC curves further helps us decide the performance of different models.  \n",
    "\n",
    "\n",
    "\n"
   ]
  },
  {
   "cell_type": "markdown",
   "metadata": {},
   "source": [
    "[<a href=\"#Module-5-Final-Project\">Jump back to Table of Contents</a>]  "
   ]
  },
  {
   "cell_type": "markdown",
   "metadata": {},
   "source": [
    "## Future Work  "
   ]
  },
  {
   "cell_type": "markdown",
   "metadata": {},
   "source": [
    "\n",
    "While the results from our predictive model (AUC=.64: Accuracy=91.47%) is encouraging and a good baseline for further improving our model we learned that our classifiers may have high accuracies, it could be misleading and may need further exploration and consideration of other sampling techniques, algorithms, metrics like Precision, Recall or F1-score that work well with unbalanced data.\n",
    "\n",
    "+ Implement dashboard of Inpatient encounters and their predicted readmission risk scores and rankings.\n",
    "+ Measure and monitor reduction in readmission rates\n",
    "+ Explore further model improvements/tuning resampling techniques to improve the accuracy of the predictive model\n",
    "+ Experiment on further Feature selection and elimination\n",
    "+ Take best models and Ensemble\n",
    "+ Use alternative metrics for evaluation & thresholding\n",
    "+ Explore optimal tuning parameters to improve accuracy of imbalanced classes\n",
    "+ Use metrics that are robust against unbalanced datasets\n"
   ]
  },
  {
   "cell_type": "markdown",
   "metadata": {},
   "source": [
    "[<a href=\"#Module-5-Final-Project\">Jump back to Table of Contents</a>]  "
   ]
  }
 ],
 "metadata": {
  "kernelspec": {
   "display_name": "learn-env",
   "language": "python",
   "name": "learn-env"
  },
  "language_info": {
   "codemirror_mode": {
    "name": "ipython",
    "version": 3
   },
   "file_extension": ".py",
   "mimetype": "text/x-python",
   "name": "python",
   "nbconvert_exporter": "python",
   "pygments_lexer": "ipython3",
   "version": "3.6.9"
  }
 },
 "nbformat": 4,
 "nbformat_minor": 2
}
